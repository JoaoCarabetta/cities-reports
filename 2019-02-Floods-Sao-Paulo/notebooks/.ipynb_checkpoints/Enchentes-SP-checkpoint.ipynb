{
 "cells": [
  {
   "cell_type": "code",
   "execution_count": 2,
   "metadata": {},
   "outputs": [
    {
     "data": {
      "text/html": [
       "<script type=\"text/javascript\">window.PlotlyConfig = {MathJaxConfig: 'local'};</script><script type=\"text/javascript\">if (window.MathJax) {MathJax.Hub.Config({SVG: {font: \"STIX-Web\"}});}</script><script>requirejs.config({paths: { 'plotly': ['https://cdn.plot.ly/plotly-latest.min']},});if(!window._Plotly) {require(['plotly'],function(plotly) {window._Plotly=plotly;});}</script>"
      ],
      "text/vnd.plotly.v1+html": [
       "<script type=\"text/javascript\">window.PlotlyConfig = {MathJaxConfig: 'local'};</script><script type=\"text/javascript\">if (window.MathJax) {MathJax.Hub.Config({SVG: {font: \"STIX-Web\"}});}</script><script>requirejs.config({paths: { 'plotly': ['https://cdn.plot.ly/plotly-latest.min']},});if(!window._Plotly) {require(['plotly'],function(plotly) {window._Plotly=plotly;});}</script>"
      ]
     },
     "metadata": {},
     "output_type": "display_data"
    }
   ],
   "source": [
    "%reload_ext autoreload\n",
    "%autoreload 2\n",
    "\n",
    "import sys\n",
    "from pathlib import Path \n",
    "current_path = Path().resolve()\n",
    "abs_path = str(current_path.parent)\n",
    "sys.path.append(abs_path)\n",
    "\n",
    "import warnings\n",
    "warnings.filterwarnings('ignore')\n",
    "\n",
    "from collections import defaultdict\n",
    "\n",
    "import numpy as np\n",
    "import pandas as pd\n",
    "pd.set_option('display.max_columns', None)\n",
    "\n",
    "import plotly.graph_objs as go\n",
    "import plotly.plotly as py\n",
    "import plotly.offline as offline\n",
    "offline.init_notebook_mode(connected=True)\n",
    "\n",
    "import sqlalchemy as sa\n",
    "from datetime import datetime as dt\n",
    "import pytz\n",
    "import osmnx as ox\n",
    "import ast\n",
    "import operator\n",
    "\n",
    "RAW_PATH = current_path.parent / 'data' / 'raw'\n",
    "OUTPUT_PATH = current_path.parent / 'data' / 'output'"
   ]
  },
  {
   "cell_type": "code",
   "execution_count": 11,
   "metadata": {},
   "outputs": [],
   "source": [
    "import scripts.waze_flood as wf"
   ]
  },
  {
   "cell_type": "markdown",
   "metadata": {},
   "source": [
    "# Downloading Data"
   ]
  },
  {
   "cell_type": "markdown",
   "metadata": {},
   "source": [
    "## Downloanding Cities Metadata"
   ]
  },
  {
   "cell_type": "code",
   "execution_count": 15,
   "metadata": {},
   "outputs": [],
   "source": [
    "#cities = wa.get_cities_metadata()"
   ]
  },
  {
   "cell_type": "markdown",
   "metadata": {},
   "source": [
    "## Donwloading São Paulo Enchentes"
   ]
  },
  {
   "cell_type": "markdown",
   "metadata": {},
   "source": [
    "### Tentativa por conexão direta com Athena"
   ]
  },
  {
   "cell_type": "code",
   "execution_count": 1,
   "metadata": {},
   "outputs": [],
   "source": [
    "from pyathena import connect\n",
    "\n",
    "conn = connect(s3_staging_dir='s3://aws-athena-queries-result-east-2/join-pems-waze',\n",
    "               region_name='us-east-2')"
   ]
  },
  {
   "cell_type": "code",
   "execution_count": 4,
   "metadata": {},
   "outputs": [],
   "source": [
    "query = \"\"\"\n",
    "        SELECT *,\n",
    "                 pub_utc_date AT TIME ZONE 'America/Sao_Paulo' AS local_time\n",
    "        FROM cities.br_saopaulo_waze_alerts\n",
    "        WHERE day = 4\n",
    "                AND month = 2\n",
    "                AND subtype = 'HAZARD_WEATHER_FLOOD';\"\"\""
   ]
  },
  {
   "cell_type": "code",
   "execution_count": 5,
   "metadata": {},
   "outputs": [],
   "source": [
    "df = pd.read_sql(query, conn)"
   ]
  },
  {
   "cell_type": "markdown",
   "metadata": {},
   "source": [
    "### Upload do csv para servidor e leitura dos dados raw"
   ]
  },
  {
   "cell_type": "code",
   "execution_count": 162,
   "metadata": {},
   "outputs": [],
   "source": [
    "df = pd.read_csv(RAW_PATH/\"sp-19-02-04-enchentes.csv\")"
   ]
  },
  {
   "cell_type": "code",
   "execution_count": 163,
   "metadata": {},
   "outputs": [
    {
     "data": {
      "text/html": [
       "<div>\n",
       "<style scoped>\n",
       "    .dataframe tbody tr th:only-of-type {\n",
       "        vertical-align: middle;\n",
       "    }\n",
       "\n",
       "    .dataframe tbody tr th {\n",
       "        vertical-align: top;\n",
       "    }\n",
       "\n",
       "    .dataframe thead th {\n",
       "        text-align: right;\n",
       "    }\n",
       "</style>\n",
       "<table border=\"1\" class=\"dataframe\">\n",
       "  <thead>\n",
       "    <tr style=\"text-align: right;\">\n",
       "      <th></th>\n",
       "      <th>uuid</th>\n",
       "      <th>start_time</th>\n",
       "      <th>end_time</th>\n",
       "      <th>location_x</th>\n",
       "      <th>location_y</th>\n",
       "      <th>reliability_min</th>\n",
       "      <th>reliability_max</th>\n",
       "      <th>confidence_min</th>\n",
       "      <th>confidence_max</th>\n",
       "      <th>thumbs_up</th>\n",
       "    </tr>\n",
       "  </thead>\n",
       "  <tbody>\n",
       "    <tr>\n",
       "      <th>0</th>\n",
       "      <td>1502b430-6a10-30a5-838f-8e2558f1278d</td>\n",
       "      <td>2019-02-04 04:32:00.000 America/Sao_Paulo</td>\n",
       "      <td>2019-02-04 05:32:00.000 America/Sao_Paulo</td>\n",
       "      <td>-46.597846</td>\n",
       "      <td>-23.589049</td>\n",
       "      <td>5</td>\n",
       "      <td>5</td>\n",
       "      <td>0</td>\n",
       "      <td>0</td>\n",
       "      <td>0</td>\n",
       "    </tr>\n",
       "    <tr>\n",
       "      <th>1</th>\n",
       "      <td>c0d05331-f674-38e1-be03-e3e381cc56f6</td>\n",
       "      <td>2019-02-04 06:14:00.000 America/Sao_Paulo</td>\n",
       "      <td>2019-02-04 07:23:00.000 America/Sao_Paulo</td>\n",
       "      <td>-46.627209</td>\n",
       "      <td>-23.542519</td>\n",
       "      <td>5</td>\n",
       "      <td>6</td>\n",
       "      <td>0</td>\n",
       "      <td>0</td>\n",
       "      <td>1</td>\n",
       "    </tr>\n",
       "    <tr>\n",
       "      <th>2</th>\n",
       "      <td>12f179a6-2785-3464-b7ba-e3bdc97f011c</td>\n",
       "      <td>2019-02-04 05:14:00.000 America/Sao_Paulo</td>\n",
       "      <td>2019-02-04 07:38:00.000 America/Sao_Paulo</td>\n",
       "      <td>-46.600856</td>\n",
       "      <td>-23.620926</td>\n",
       "      <td>5</td>\n",
       "      <td>10</td>\n",
       "      <td>0</td>\n",
       "      <td>5</td>\n",
       "      <td>10</td>\n",
       "    </tr>\n",
       "    <tr>\n",
       "      <th>3</th>\n",
       "      <td>aca8e63c-0571-3ad1-a49f-67b3a96bf1ec</td>\n",
       "      <td>2019-02-04 06:14:00.000 America/Sao_Paulo</td>\n",
       "      <td>2019-02-04 07:36:00.000 America/Sao_Paulo</td>\n",
       "      <td>-46.496549</td>\n",
       "      <td>-23.582749</td>\n",
       "      <td>5</td>\n",
       "      <td>6</td>\n",
       "      <td>0</td>\n",
       "      <td>0</td>\n",
       "      <td>0</td>\n",
       "    </tr>\n",
       "    <tr>\n",
       "      <th>4</th>\n",
       "      <td>18881355-0b03-3f59-8471-d10f20a2a767</td>\n",
       "      <td>2019-02-04 02:56:00.000 America/Sao_Paulo</td>\n",
       "      <td>2019-02-04 03:56:00.000 America/Sao_Paulo</td>\n",
       "      <td>-46.620492</td>\n",
       "      <td>-23.552413</td>\n",
       "      <td>5</td>\n",
       "      <td>5</td>\n",
       "      <td>0</td>\n",
       "      <td>0</td>\n",
       "      <td>0</td>\n",
       "    </tr>\n",
       "  </tbody>\n",
       "</table>\n",
       "</div>"
      ],
      "text/plain": [
       "                                   uuid  \\\n",
       "0  1502b430-6a10-30a5-838f-8e2558f1278d   \n",
       "1  c0d05331-f674-38e1-be03-e3e381cc56f6   \n",
       "2  12f179a6-2785-3464-b7ba-e3bdc97f011c   \n",
       "3  aca8e63c-0571-3ad1-a49f-67b3a96bf1ec   \n",
       "4  18881355-0b03-3f59-8471-d10f20a2a767   \n",
       "\n",
       "                                  start_time  \\\n",
       "0  2019-02-04 04:32:00.000 America/Sao_Paulo   \n",
       "1  2019-02-04 06:14:00.000 America/Sao_Paulo   \n",
       "2  2019-02-04 05:14:00.000 America/Sao_Paulo   \n",
       "3  2019-02-04 06:14:00.000 America/Sao_Paulo   \n",
       "4  2019-02-04 02:56:00.000 America/Sao_Paulo   \n",
       "\n",
       "                                    end_time  location_x  location_y  \\\n",
       "0  2019-02-04 05:32:00.000 America/Sao_Paulo  -46.597846  -23.589049   \n",
       "1  2019-02-04 07:23:00.000 America/Sao_Paulo  -46.627209  -23.542519   \n",
       "2  2019-02-04 07:38:00.000 America/Sao_Paulo  -46.600856  -23.620926   \n",
       "3  2019-02-04 07:36:00.000 America/Sao_Paulo  -46.496549  -23.582749   \n",
       "4  2019-02-04 03:56:00.000 America/Sao_Paulo  -46.620492  -23.552413   \n",
       "\n",
       "   reliability_min  reliability_max  confidence_min  confidence_max  thumbs_up  \n",
       "0                5                5               0               0          0  \n",
       "1                5                6               0               0          1  \n",
       "2                5               10               0               5         10  \n",
       "3                5                6               0               0          0  \n",
       "4                5                5               0               0          0  "
      ]
     },
     "execution_count": 163,
     "metadata": {},
     "output_type": "execute_result"
    }
   ],
   "source": [
    "df.head()"
   ]
  },
  {
   "cell_type": "markdown",
   "metadata": {},
   "source": [
    "### Time Range"
   ]
  },
  {
   "cell_type": "code",
   "execution_count": 164,
   "metadata": {},
   "outputs": [
    {
     "data": {
      "text/plain": [
       "0    2019-02-03 21:57:00.000 America/Sao_Paulo\n",
       "1    2019-02-04 21:56:00.000 America/Sao_Paulo\n",
       "dtype: object"
      ]
     },
     "execution_count": 164,
     "metadata": {},
     "output_type": "execute_result"
    }
   ],
   "source": [
    "wf.get_timerange(df)"
   ]
  },
  {
   "cell_type": "markdown",
   "metadata": {},
   "source": [
    "## OSM Graph"
   ]
  },
  {
   "cell_type": "code",
   "execution_count": 18,
   "metadata": {},
   "outputs": [
    {
     "name": "stdout",
     "output_type": "stream",
     "text": [
      "[DEBUG] /home/master/cts/cities/waze-tools/wazetools/data/data_transform.py:68 get_osm(): Fetching data from cache\n",
      "[DEBUG] /home/master/cts/cities/waze-tools/wazetools/data/data_transform.py:68 get_osm(): Fetching data from cache in 2.69 s\n"
     ]
    }
   ],
   "source": [
    "#cities = wa.download_osm_graph(city, cities)"
   ]
  },
  {
   "cell_type": "markdown",
   "metadata": {},
   "source": [
    "# Data pre-processing"
   ]
  },
  {
   "cell_type": "markdown",
   "metadata": {},
   "source": [
    "## Clustering Enchentes"
   ]
  },
  {
   "cell_type": "code",
   "execution_count": 165,
   "metadata": {},
   "outputs": [],
   "source": [
    "df['start_time'] = df['start_time'].apply(lambda x: dt.strptime(x, '%Y-%m-%d %H:%M:%S.000 America/Sao_Paulo'))\n",
    "df['end_time'] = df['end_time'].apply(lambda x: dt.strptime(x, '%Y-%m-%d %H:%M:%S.000 America/Sao_Paulo'))"
   ]
  },
  {
   "cell_type": "code",
   "execution_count": 166,
   "metadata": {},
   "outputs": [],
   "source": [
    "clusters_dict = wa.clustering(df, eps_spatial=200, eps_temporal=3600)"
   ]
  },
  {
   "cell_type": "code",
   "execution_count": 167,
   "metadata": {},
   "outputs": [],
   "source": [
    "clusters_bkup = clusters_dict.copy()"
   ]
  },
  {
   "cell_type": "code",
   "execution_count": 168,
   "metadata": {},
   "outputs": [],
   "source": [
    "clusters = pd.DataFrame(clusters_dict).T.drop(columns=['uuid list']).rename_axis('cluster')"
   ]
  },
  {
   "cell_type": "code",
   "execution_count": 169,
   "metadata": {},
   "outputs": [],
   "source": [
    "clusters['interactions'] = clusters['thumbs_up'] + clusters['uuid count']"
   ]
  },
  {
   "cell_type": "code",
   "execution_count": 170,
   "metadata": {},
   "outputs": [
    {
     "data": {
      "text/html": [
       "<div>\n",
       "<style scoped>\n",
       "    .dataframe tbody tr th:only-of-type {\n",
       "        vertical-align: middle;\n",
       "    }\n",
       "\n",
       "    .dataframe tbody tr th {\n",
       "        vertical-align: top;\n",
       "    }\n",
       "\n",
       "    .dataframe thead th {\n",
       "        text-align: right;\n",
       "    }\n",
       "</style>\n",
       "<table border=\"1\" class=\"dataframe\">\n",
       "  <thead>\n",
       "    <tr style=\"text-align: right;\">\n",
       "      <th></th>\n",
       "      <th>confidence_max</th>\n",
       "      <th>confidence_min</th>\n",
       "      <th>end_time</th>\n",
       "      <th>location_x</th>\n",
       "      <th>location_y</th>\n",
       "      <th>reliability_max</th>\n",
       "      <th>reliability_min</th>\n",
       "      <th>start_time</th>\n",
       "      <th>thumbs_up</th>\n",
       "      <th>uuid count</th>\n",
       "      <th>interactions</th>\n",
       "    </tr>\n",
       "    <tr>\n",
       "      <th>cluster</th>\n",
       "      <th></th>\n",
       "      <th></th>\n",
       "      <th></th>\n",
       "      <th></th>\n",
       "      <th></th>\n",
       "      <th></th>\n",
       "      <th></th>\n",
       "      <th></th>\n",
       "      <th></th>\n",
       "      <th></th>\n",
       "      <th></th>\n",
       "    </tr>\n",
       "  </thead>\n",
       "  <tbody>\n",
       "    <tr>\n",
       "      <th>1</th>\n",
       "      <td>0</td>\n",
       "      <td>0</td>\n",
       "      <td>2019-02-04 05:32:00</td>\n",
       "      <td>-46.5978</td>\n",
       "      <td>-23.589</td>\n",
       "      <td>5</td>\n",
       "      <td>5</td>\n",
       "      <td>2019-02-04 04:32:00</td>\n",
       "      <td>0</td>\n",
       "      <td>1</td>\n",
       "      <td>1</td>\n",
       "    </tr>\n",
       "  </tbody>\n",
       "</table>\n",
       "</div>"
      ],
      "text/plain": [
       "        confidence_max confidence_min             end_time location_x  \\\n",
       "cluster                                                                 \n",
       "1                    0              0  2019-02-04 05:32:00   -46.5978   \n",
       "\n",
       "        location_y reliability_max reliability_min           start_time  \\\n",
       "cluster                                                                   \n",
       "1          -23.589               5               5  2019-02-04 04:32:00   \n",
       "\n",
       "        thumbs_up uuid count interactions  \n",
       "cluster                                    \n",
       "1               0          1            1  "
      ]
     },
     "execution_count": 170,
     "metadata": {},
     "output_type": "execute_result"
    }
   ],
   "source": [
    "clusters.head(1)"
   ]
  },
  {
   "cell_type": "markdown",
   "metadata": {},
   "source": [
    "## Accidents to shapely"
   ]
  },
  {
   "cell_type": "code",
   "execution_count": 171,
   "metadata": {},
   "outputs": [],
   "source": [
    "wf.treat_alert_points(clusters)"
   ]
  },
  {
   "cell_type": "code",
   "execution_count": 172,
   "metadata": {},
   "outputs": [
    {
     "data": {
      "text/html": [
       "<div>\n",
       "<style scoped>\n",
       "    .dataframe tbody tr th:only-of-type {\n",
       "        vertical-align: middle;\n",
       "    }\n",
       "\n",
       "    .dataframe tbody tr th {\n",
       "        vertical-align: top;\n",
       "    }\n",
       "\n",
       "    .dataframe thead th {\n",
       "        text-align: right;\n",
       "    }\n",
       "</style>\n",
       "<table border=\"1\" class=\"dataframe\">\n",
       "  <thead>\n",
       "    <tr style=\"text-align: right;\">\n",
       "      <th></th>\n",
       "      <th>confidence_max</th>\n",
       "      <th>confidence_min</th>\n",
       "      <th>end_time</th>\n",
       "      <th>location_x</th>\n",
       "      <th>location_y</th>\n",
       "      <th>reliability_max</th>\n",
       "      <th>reliability_min</th>\n",
       "      <th>start_time</th>\n",
       "      <th>thumbs_up</th>\n",
       "      <th>uuid count</th>\n",
       "      <th>interactions</th>\n",
       "      <th>point</th>\n",
       "    </tr>\n",
       "    <tr>\n",
       "      <th>cluster</th>\n",
       "      <th></th>\n",
       "      <th></th>\n",
       "      <th></th>\n",
       "      <th></th>\n",
       "      <th></th>\n",
       "      <th></th>\n",
       "      <th></th>\n",
       "      <th></th>\n",
       "      <th></th>\n",
       "      <th></th>\n",
       "      <th></th>\n",
       "      <th></th>\n",
       "    </tr>\n",
       "  </thead>\n",
       "  <tbody>\n",
       "    <tr>\n",
       "      <th>1</th>\n",
       "      <td>0</td>\n",
       "      <td>0</td>\n",
       "      <td>2019-02-04 05:32:00</td>\n",
       "      <td>-46.5978</td>\n",
       "      <td>-23.589</td>\n",
       "      <td>5</td>\n",
       "      <td>5</td>\n",
       "      <td>2019-02-04 04:32:00</td>\n",
       "      <td>0</td>\n",
       "      <td>1</td>\n",
       "      <td>1</td>\n",
       "      <td>POINT (-46.59784599999999 -23.589049)</td>\n",
       "    </tr>\n",
       "  </tbody>\n",
       "</table>\n",
       "</div>"
      ],
      "text/plain": [
       "        confidence_max confidence_min             end_time location_x  \\\n",
       "cluster                                                                 \n",
       "1                    0              0  2019-02-04 05:32:00   -46.5978   \n",
       "\n",
       "        location_y reliability_max reliability_min           start_time  \\\n",
       "cluster                                                                   \n",
       "1          -23.589               5               5  2019-02-04 04:32:00   \n",
       "\n",
       "        thumbs_up uuid count interactions  \\\n",
       "cluster                                     \n",
       "1               0          1            1   \n",
       "\n",
       "                                         point  \n",
       "cluster                                         \n",
       "1        POINT (-46.59784599999999 -23.589049)  "
      ]
     },
     "execution_count": 172,
     "metadata": {},
     "output_type": "execute_result"
    }
   ],
   "source": [
    "clusters.head(1)"
   ]
  },
  {
   "cell_type": "markdown",
   "metadata": {},
   "source": [
    "## Match roads to points"
   ]
  },
  {
   "cell_type": "code",
   "execution_count": null,
   "metadata": {},
   "outputs": [],
   "source": []
  },
  {
   "cell_type": "markdown",
   "metadata": {},
   "source": [
    "# Ranking Clusters by Interactions"
   ]
  },
  {
   "cell_type": "code",
   "execution_count": 173,
   "metadata": {},
   "outputs": [],
   "source": [
    "total_interactions = clusters['interactions'].sum()\n",
    "total_alerts = clusters['uuid count'].sum()"
   ]
  },
  {
   "cell_type": "code",
   "execution_count": 174,
   "metadata": {},
   "outputs": [
    {
     "data": {
      "text/plain": [
       "1720"
      ]
     },
     "execution_count": 174,
     "metadata": {},
     "output_type": "execute_result"
    }
   ],
   "source": [
    "total_interactions"
   ]
  },
  {
   "cell_type": "code",
   "execution_count": 175,
   "metadata": {},
   "outputs": [
    {
     "data": {
      "text/plain": [
       "559"
      ]
     },
     "execution_count": 175,
     "metadata": {},
     "output_type": "execute_result"
    }
   ],
   "source": [
    "total_alerts"
   ]
  },
  {
   "cell_type": "code",
   "execution_count": 176,
   "metadata": {},
   "outputs": [],
   "source": [
    "clusters['pareto'] = clusters['interactions'].sort_values(ascending=False).cumsum() * 100 / total_interactions"
   ]
  },
  {
   "cell_type": "code",
   "execution_count": 193,
   "metadata": {},
   "outputs": [
    {
     "data": {
      "text/html": [
       "<div>\n",
       "<style scoped>\n",
       "    .dataframe tbody tr th:only-of-type {\n",
       "        vertical-align: middle;\n",
       "    }\n",
       "\n",
       "    .dataframe tbody tr th {\n",
       "        vertical-align: top;\n",
       "    }\n",
       "\n",
       "    .dataframe thead th {\n",
       "        text-align: right;\n",
       "    }\n",
       "</style>\n",
       "<table border=\"1\" class=\"dataframe\">\n",
       "  <thead>\n",
       "    <tr style=\"text-align: right;\">\n",
       "      <th></th>\n",
       "      <th>confidence_max</th>\n",
       "      <th>confidence_min</th>\n",
       "      <th>end_time</th>\n",
       "      <th>location_x</th>\n",
       "      <th>location_y</th>\n",
       "      <th>reliability_max</th>\n",
       "      <th>reliability_min</th>\n",
       "      <th>start_time</th>\n",
       "      <th>thumbs_up</th>\n",
       "      <th>uuid count</th>\n",
       "      <th>interactions</th>\n",
       "      <th>point</th>\n",
       "      <th>pareto</th>\n",
       "    </tr>\n",
       "    <tr>\n",
       "      <th>cluster</th>\n",
       "      <th></th>\n",
       "      <th></th>\n",
       "      <th></th>\n",
       "      <th></th>\n",
       "      <th></th>\n",
       "      <th></th>\n",
       "      <th></th>\n",
       "      <th></th>\n",
       "      <th></th>\n",
       "      <th></th>\n",
       "      <th></th>\n",
       "      <th></th>\n",
       "      <th></th>\n",
       "    </tr>\n",
       "  </thead>\n",
       "  <tbody>\n",
       "    <tr>\n",
       "      <th>21</th>\n",
       "      <td>5</td>\n",
       "      <td>0</td>\n",
       "      <td>2019-02-04 11:53:00</td>\n",
       "      <td>-46.63</td>\n",
       "      <td>-23.5195</td>\n",
       "      <td>10</td>\n",
       "      <td>5</td>\n",
       "      <td>2019-02-04 02:36:00</td>\n",
       "      <td>83</td>\n",
       "      <td>31</td>\n",
       "      <td>114</td>\n",
       "      <td>POINT (-46.629964964799 -23.51946167009796)</td>\n",
       "      <td>6.62791</td>\n",
       "    </tr>\n",
       "    <tr>\n",
       "      <th>8</th>\n",
       "      <td>4</td>\n",
       "      <td>0</td>\n",
       "      <td>2019-02-04 15:33:00</td>\n",
       "      <td>-46.5592</td>\n",
       "      <td>-23.5104</td>\n",
       "      <td>10</td>\n",
       "      <td>5</td>\n",
       "      <td>2019-02-04 06:25:00</td>\n",
       "      <td>31</td>\n",
       "      <td>41</td>\n",
       "      <td>72</td>\n",
       "      <td>POINT (-46.55923441955649 -23.51041344798837)</td>\n",
       "      <td>10.814</td>\n",
       "    </tr>\n",
       "    <tr>\n",
       "      <th>67</th>\n",
       "      <td>5</td>\n",
       "      <td>0</td>\n",
       "      <td>2019-02-04 07:35:00</td>\n",
       "      <td>-46.6933</td>\n",
       "      <td>-23.5978</td>\n",
       "      <td>10</td>\n",
       "      <td>5</td>\n",
       "      <td>2019-02-04 04:55:00</td>\n",
       "      <td>54</td>\n",
       "      <td>3</td>\n",
       "      <td>57</td>\n",
       "      <td>POINT (-46.69331008391696 -23.59779010679273)</td>\n",
       "      <td>14.1279</td>\n",
       "    </tr>\n",
       "    <tr>\n",
       "      <th>186</th>\n",
       "      <td>5</td>\n",
       "      <td>0</td>\n",
       "      <td>2019-02-04 10:20:00</td>\n",
       "      <td>-46.693</td>\n",
       "      <td>-23.6143</td>\n",
       "      <td>10</td>\n",
       "      <td>5</td>\n",
       "      <td>2019-02-04 04:54:00</td>\n",
       "      <td>45</td>\n",
       "      <td>6</td>\n",
       "      <td>51</td>\n",
       "      <td>POINT (-46.69295849999998 -23.61429099999999)</td>\n",
       "      <td>17.093</td>\n",
       "    </tr>\n",
       "    <tr>\n",
       "      <th>192</th>\n",
       "      <td>5</td>\n",
       "      <td>0</td>\n",
       "      <td>2019-02-04 09:14:00</td>\n",
       "      <td>-46.6758</td>\n",
       "      <td>-23.6271</td>\n",
       "      <td>10</td>\n",
       "      <td>5</td>\n",
       "      <td>2019-02-04 05:29:00</td>\n",
       "      <td>39</td>\n",
       "      <td>2</td>\n",
       "      <td>41</td>\n",
       "      <td>POINT (-46.67576243220336 -23.62707160169494)</td>\n",
       "      <td>19.4767</td>\n",
       "    </tr>\n",
       "  </tbody>\n",
       "</table>\n",
       "</div>"
      ],
      "text/plain": [
       "        confidence_max confidence_min             end_time location_x  \\\n",
       "cluster                                                                 \n",
       "21                   5              0  2019-02-04 11:53:00     -46.63   \n",
       "8                    4              0  2019-02-04 15:33:00   -46.5592   \n",
       "67                   5              0  2019-02-04 07:35:00   -46.6933   \n",
       "186                  5              0  2019-02-04 10:20:00    -46.693   \n",
       "192                  5              0  2019-02-04 09:14:00   -46.6758   \n",
       "\n",
       "        location_y reliability_max reliability_min           start_time  \\\n",
       "cluster                                                                   \n",
       "21        -23.5195              10               5  2019-02-04 02:36:00   \n",
       "8         -23.5104              10               5  2019-02-04 06:25:00   \n",
       "67        -23.5978              10               5  2019-02-04 04:55:00   \n",
       "186       -23.6143              10               5  2019-02-04 04:54:00   \n",
       "192       -23.6271              10               5  2019-02-04 05:29:00   \n",
       "\n",
       "        thumbs_up uuid count interactions  \\\n",
       "cluster                                     \n",
       "21             83         31          114   \n",
       "8              31         41           72   \n",
       "67             54          3           57   \n",
       "186            45          6           51   \n",
       "192            39          2           41   \n",
       "\n",
       "                                                 point   pareto  \n",
       "cluster                                                          \n",
       "21         POINT (-46.629964964799 -23.51946167009796)  6.62791  \n",
       "8        POINT (-46.55923441955649 -23.51041344798837)   10.814  \n",
       "67       POINT (-46.69331008391696 -23.59779010679273)  14.1279  \n",
       "186      POINT (-46.69295849999998 -23.61429099999999)   17.093  \n",
       "192      POINT (-46.67576243220336 -23.62707160169494)  19.4767  "
      ]
     },
     "execution_count": 193,
     "metadata": {},
     "output_type": "execute_result"
    }
   ],
   "source": [
    "clusters_pareto_sorted = pd.DataFrame(clusters.sort_values(by='pareto'))\n",
    "clusters_pareto_sorted.head()"
   ]
  },
  {
   "cell_type": "code",
   "execution_count": 194,
   "metadata": {},
   "outputs": [],
   "source": [
    "clusters_pareto_sorted.to_csv(OUTPUT_PATH/'clusters_pareto.csv')"
   ]
  },
  {
   "cell_type": "markdown",
   "metadata": {},
   "source": [
    "# Bounding-Box Macro Regiões"
   ]
  },
  {
   "cell_type": "code",
   "execution_count": 203,
   "metadata": {},
   "outputs": [],
   "source": [
    "def generate_bbox(clusters, cluster_lower_y, cluster_left_x, cluster_upper_y, cluster_right_x):\n",
    "    bbox = {}\n",
    "    bbox['lower_y'] = clusters.loc[cluster_lower_y, 'location_y']\n",
    "    bbox['left_x'] = clusters.loc[cluster_left_x, 'location_x']\n",
    "    bbox['upper_y'] = clusters.loc[cluster_upper_y, 'location_y']\n",
    "    bbox['rigth_x'] = clusters.loc[cluster_right_x, 'location_x']\n",
    "    return bbox"
   ]
  },
  {
   "cell_type": "code",
   "execution_count": 204,
   "metadata": {},
   "outputs": [],
   "source": [
    "def clusters_in_bbox(clusters, bbox):\n",
    "    lower_y = bbox['lower_y']\n",
    "    left_x = bbox['left_x']\n",
    "    upper_y = bbox['upper_y']\n",
    "    rigth_x = bbox['rigth_x']\n",
    "    return clusters[(left_x <= clusters['location_x']) & (clusters['location_x'] <= rigth_x) & (lower_y <= clusters['location_y']) & (clusters['location_y'] <= upper_y)]"
   ]
  },
  {
   "cell_type": "markdown",
   "metadata": {},
   "source": [
    "## Região 1 (zona Norte/Leste - Tiete)"
   ]
  },
  {
   "cell_type": "code",
   "execution_count": 179,
   "metadata": {},
   "outputs": [],
   "source": [
    "# lower_y = cluster 44\n",
    "# left_x = cluster 64\n",
    "# upper_y = cluster 45\n",
    "# rigth_x = cluster 166"
   ]
  },
  {
   "cell_type": "code",
   "execution_count": 205,
   "metadata": {},
   "outputs": [],
   "source": [
    "bbox1 = generate_bbox(clusters, 44,64,45,166)"
   ]
  },
  {
   "cell_type": "code",
   "execution_count": 208,
   "metadata": {},
   "outputs": [],
   "source": [
    "clusters_reg1 = clusters_in_bbox(clusters, bbox1)"
   ]
  },
  {
   "cell_type": "code",
   "execution_count": 210,
   "metadata": {},
   "outputs": [
    {
     "name": "stdout",
     "output_type": "stream",
     "text": [
      "342\n",
      "19.883720930232556\n"
     ]
    }
   ],
   "source": [
    "total_interactions_reg1 = clusters_reg1['interactions'].sum()\n",
    "print(total_interactions_reg1)\n",
    "print(total_interactions_reg1 / total_interactions *100)"
   ]
  },
  {
   "cell_type": "code",
   "execution_count": 211,
   "metadata": {},
   "outputs": [],
   "source": [
    "clusters_reg1.to_csv(OUTPUT_PATH/'clusters_reg1.csv')"
   ]
  },
  {
   "cell_type": "markdown",
   "metadata": {},
   "source": [
    "## Região 2 (zona Oeste - Pinheiros)"
   ]
  },
  {
   "cell_type": "code",
   "execution_count": null,
   "metadata": {},
   "outputs": [],
   "source": [
    "# lower_y = cluster 186\n",
    "# left_x = cluster 178\n",
    "# upper_y = cluster 171\n",
    "# rigth_x = cluster 186"
   ]
  },
  {
   "cell_type": "code",
   "execution_count": 222,
   "metadata": {},
   "outputs": [],
   "source": [
    "bbox2 = generate_bbox(clusters, 186, 178, 171, 186)"
   ]
  },
  {
   "cell_type": "code",
   "execution_count": 223,
   "metadata": {},
   "outputs": [],
   "source": [
    "clusters_reg2 = clusters_in_bbox(clusters, bbox2)"
   ]
  },
  {
   "cell_type": "code",
   "execution_count": 224,
   "metadata": {},
   "outputs": [],
   "source": [
    "total_interactions_reg2 = clusters_reg2['interactions'].sum()"
   ]
  },
  {
   "cell_type": "code",
   "execution_count": 225,
   "metadata": {},
   "outputs": [
    {
     "name": "stdout",
     "output_type": "stream",
     "text": [
      "149\n",
      "8.662790697674419\n"
     ]
    }
   ],
   "source": [
    "print(total_interactions_reg2)\n",
    "print(total_interactions_reg2 / total_interactions *100)"
   ]
  },
  {
   "cell_type": "code",
   "execution_count": 226,
   "metadata": {},
   "outputs": [],
   "source": [
    "clusters_reg2.to_csv(OUTPUT_PATH/'clusters_reg2.csv')"
   ]
  },
  {
   "cell_type": "markdown",
   "metadata": {},
   "source": [
    "## Região 3 (Av. Jornalista Roberto Marinho)"
   ]
  },
  {
   "cell_type": "code",
   "execution_count": 184,
   "metadata": {},
   "outputs": [],
   "source": [
    "# lower_y = cluster 141\n",
    "# left_x = cluster 47\n",
    "# upper_y = cluster 47\n",
    "# rigth_x = cluster 141"
   ]
  },
  {
   "cell_type": "code",
   "execution_count": 212,
   "metadata": {},
   "outputs": [],
   "source": [
    "bbox3 = generate_bbox(clusters, 141, 47, 47, 141)"
   ]
  },
  {
   "cell_type": "code",
   "execution_count": 213,
   "metadata": {},
   "outputs": [],
   "source": [
    "clusters_reg3 = clusters_in_bbox(clusters, bbox3)"
   ]
  },
  {
   "cell_type": "code",
   "execution_count": 214,
   "metadata": {},
   "outputs": [],
   "source": [
    "total_interactions_reg3 = clusters_reg3['interactions'].sum()"
   ]
  },
  {
   "cell_type": "code",
   "execution_count": 215,
   "metadata": {},
   "outputs": [
    {
     "name": "stdout",
     "output_type": "stream",
     "text": [
      "51\n",
      "2.9651162790697674\n"
     ]
    }
   ],
   "source": [
    "print(total_interactions_reg3)\n",
    "print(total_interactions_reg3 / total_interactions *100)"
   ]
  },
  {
   "cell_type": "markdown",
   "metadata": {},
   "source": [
    "## Região 4 (Rua Miguel Yunes)"
   ]
  },
  {
   "cell_type": "code",
   "execution_count": 184,
   "metadata": {},
   "outputs": [],
   "source": [
    "# lower_y = cluster 77\n",
    "# left_x = cluster 39\n",
    "# upper_y = cluster 39\n",
    "# rigth_x = cluster 77"
   ]
  },
  {
   "cell_type": "code",
   "execution_count": 227,
   "metadata": {},
   "outputs": [],
   "source": [
    "bbox4 = generate_bbox(clusters, 77, 39, 39, 77)"
   ]
  },
  {
   "cell_type": "code",
   "execution_count": 229,
   "metadata": {},
   "outputs": [],
   "source": [
    "clusters_reg4 = clusters_in_bbox(clusters, bbox4)"
   ]
  },
  {
   "cell_type": "code",
   "execution_count": 230,
   "metadata": {},
   "outputs": [],
   "source": [
    "total_interactions_reg4 = clusters_reg4['interactions'].sum()"
   ]
  },
  {
   "cell_type": "code",
   "execution_count": 231,
   "metadata": {},
   "outputs": [
    {
     "name": "stdout",
     "output_type": "stream",
     "text": [
      "87\n",
      "5.058139534883721\n"
     ]
    }
   ],
   "source": [
    "print(total_interactions_reg4)\n",
    "print(total_interactions_reg4 / total_interactions *100)"
   ]
  },
  {
   "cell_type": "code",
   "execution_count": 232,
   "metadata": {},
   "outputs": [],
   "source": [
    "clusters_reg4.to_csv(OUTPUT_PATH/'clusters_reg4.csv')"
   ]
  },
  {
   "cell_type": "markdown",
   "metadata": {},
   "source": [
    "## Região 5 (Centro)"
   ]
  },
  {
   "cell_type": "code",
   "execution_count": 184,
   "metadata": {},
   "outputs": [],
   "source": [
    "# lower_y = cluster 150\n",
    "# left_x = cluster 66\n",
    "# upper_y = cluster 66\n",
    "# rigth_x = cluster 159"
   ]
  },
  {
   "cell_type": "code",
   "execution_count": 256,
   "metadata": {},
   "outputs": [],
   "source": [
    "bbox5 = generate_bbox(clusters, 150, 66, 66, 159)"
   ]
  },
  {
   "cell_type": "code",
   "execution_count": 257,
   "metadata": {},
   "outputs": [],
   "source": [
    "clusters_reg5 = clusters_in_bbox(clusters, bbox5)"
   ]
  },
  {
   "cell_type": "code",
   "execution_count": 258,
   "metadata": {},
   "outputs": [],
   "source": [
    "total_interactions_reg5 = clusters_reg5['interactions'].sum()"
   ]
  },
  {
   "cell_type": "code",
   "execution_count": 259,
   "metadata": {},
   "outputs": [
    {
     "name": "stdout",
     "output_type": "stream",
     "text": [
      "61\n",
      "3.5465116279069764\n"
     ]
    }
   ],
   "source": [
    "print(total_interactions_reg5)\n",
    "print(total_interactions_reg5 / total_interactions *100)"
   ]
  },
  {
   "cell_type": "code",
   "execution_count": 260,
   "metadata": {},
   "outputs": [],
   "source": [
    "clusters_reg5.to_csv(OUTPUT_PATH/'clusters_reg5.csv')"
   ]
  },
  {
   "cell_type": "markdown",
   "metadata": {},
   "source": [
    "## Região 6 (Rodovia Anchieta)"
   ]
  },
  {
   "cell_type": "code",
   "execution_count": 184,
   "metadata": {},
   "outputs": [],
   "source": [
    "# lower_y = cluster 6\n",
    "# left_x = cluster 217\n",
    "# upper_y = cluster 217\n",
    "# rigth_x = cluster 3"
   ]
  },
  {
   "cell_type": "code",
   "execution_count": 237,
   "metadata": {},
   "outputs": [],
   "source": [
    "bbox6 = generate_bbox(clusters, 6, 217, 217, 3)"
   ]
  },
  {
   "cell_type": "code",
   "execution_count": 238,
   "metadata": {},
   "outputs": [],
   "source": [
    "clusters_reg6 = clusters_in_bbox(clusters, bbox6)"
   ]
  },
  {
   "cell_type": "code",
   "execution_count": 239,
   "metadata": {},
   "outputs": [],
   "source": [
    "total_interactions_reg6 = clusters_reg6['interactions'].sum()"
   ]
  },
  {
   "cell_type": "code",
   "execution_count": 240,
   "metadata": {},
   "outputs": [
    {
     "name": "stdout",
     "output_type": "stream",
     "text": [
      "34\n",
      "1.9767441860465116\n"
     ]
    }
   ],
   "source": [
    "print(total_interactions_reg6)\n",
    "print(total_interactions_reg6 / total_interactions *100)"
   ]
  },
  {
   "cell_type": "code",
   "execution_count": 241,
   "metadata": {},
   "outputs": [],
   "source": [
    "clusters_reg6.to_csv(OUTPUT_PATH/'clusters_reg6.csv')"
   ]
  },
  {
   "cell_type": "markdown",
   "metadata": {},
   "source": [
    "## Região 7 (Av. Paulo Freire + Av. Condessa Elizabeth de Robiano)"
   ]
  },
  {
   "cell_type": "code",
   "execution_count": 184,
   "metadata": {},
   "outputs": [],
   "source": [
    "# lower_y = cluster 36\n",
    "# left_x = cluster 117\n",
    "# upper_y = cluster 8\n",
    "# rigth_x = cluster 36"
   ]
  },
  {
   "cell_type": "code",
   "execution_count": 242,
   "metadata": {},
   "outputs": [],
   "source": [
    "bbox7 = generate_bbox(clusters, 36, 117, 8, 36)"
   ]
  },
  {
   "cell_type": "code",
   "execution_count": 243,
   "metadata": {},
   "outputs": [],
   "source": [
    "clusters_reg7 = clusters_in_bbox(clusters, bbox7)"
   ]
  },
  {
   "cell_type": "code",
   "execution_count": 244,
   "metadata": {},
   "outputs": [],
   "source": [
    "total_interactions_reg7 = clusters_reg7['interactions'].sum()"
   ]
  },
  {
   "cell_type": "code",
   "execution_count": 245,
   "metadata": {},
   "outputs": [
    {
     "name": "stdout",
     "output_type": "stream",
     "text": [
      "165\n",
      "9.593023255813954\n"
     ]
    }
   ],
   "source": [
    "print(total_interactions_reg7)\n",
    "print(total_interactions_reg7 / total_interactions *100)"
   ]
  },
  {
   "cell_type": "code",
   "execution_count": 246,
   "metadata": {},
   "outputs": [],
   "source": [
    "clusters_reg7.to_csv(OUTPUT_PATH/'clusters_reg7.csv')"
   ]
  },
  {
   "cell_type": "markdown",
   "metadata": {},
   "source": [
    "## Região 8 (Av. Doutor Luís Ayres)"
   ]
  },
  {
   "cell_type": "code",
   "execution_count": 184,
   "metadata": {},
   "outputs": [],
   "source": [
    "# lower_y = cluster 74\n",
    "# left_x = cluster 132\n",
    "# upper_y = cluster 132\n",
    "# rigth_x = cluster 74"
   ]
  },
  {
   "cell_type": "code",
   "execution_count": 251,
   "metadata": {},
   "outputs": [],
   "source": [
    "bbox8 = generate_bbox(clusters, 74, 132, 132, 74)"
   ]
  },
  {
   "cell_type": "code",
   "execution_count": 252,
   "metadata": {},
   "outputs": [],
   "source": [
    "clusters_reg8 = clusters_in_bbox(clusters, bbox8)"
   ]
  },
  {
   "cell_type": "code",
   "execution_count": 253,
   "metadata": {},
   "outputs": [],
   "source": [
    "total_interactions_reg8 = clusters_reg8['interactions'].sum()"
   ]
  },
  {
   "cell_type": "code",
   "execution_count": 254,
   "metadata": {},
   "outputs": [
    {
     "name": "stdout",
     "output_type": "stream",
     "text": [
      "40\n",
      "2.3255813953488373\n"
     ]
    }
   ],
   "source": [
    "print(total_interactions_reg8)\n",
    "print(total_interactions_reg8 / total_interactions *100)"
   ]
  },
  {
   "cell_type": "code",
   "execution_count": 255,
   "metadata": {},
   "outputs": [],
   "source": [
    "clusters_reg8.to_csv(OUTPUT_PATH/'clusters_reg8.csv')"
   ]
  },
  {
   "cell_type": "markdown",
   "metadata": {},
   "source": [
    "## Região 3 (Av. Jornalista Roberto Marinho)"
   ]
  },
  {
   "cell_type": "code",
   "execution_count": 184,
   "metadata": {},
   "outputs": [],
   "source": [
    "# lower_y = cluster 141\n",
    "# left_x = cluster 47\n",
    "# upper_y = cluster 47\n",
    "# rigth_x = cluster 141"
   ]
  },
  {
   "cell_type": "code",
   "execution_count": 212,
   "metadata": {},
   "outputs": [],
   "source": [
    "bbox9 = generate_bbox(clusters, 141, 47, 47, 141)"
   ]
  },
  {
   "cell_type": "code",
   "execution_count": 213,
   "metadata": {},
   "outputs": [],
   "source": [
    "clusters_reg9 = clusters_in_bbox(clusters, bbox9)"
   ]
  },
  {
   "cell_type": "code",
   "execution_count": 214,
   "metadata": {},
   "outputs": [],
   "source": [
    "total_interactions_reg9 = clusters_reg9['interactions'].sum()"
   ]
  },
  {
   "cell_type": "code",
   "execution_count": 215,
   "metadata": {},
   "outputs": [
    {
     "name": "stdout",
     "output_type": "stream",
     "text": [
      "51\n",
      "2.9651162790697674\n"
     ]
    }
   ],
   "source": [
    "print(total_interactions_reg9)\n",
    "print(total_interactions_reg9 / total_interactions *100)"
   ]
  },
  {
   "cell_type": "code",
   "execution_count": 216,
   "metadata": {},
   "outputs": [],
   "source": [
    "clusters_reg9.to_csv(OUTPUT_PATH/'clusters_reg9.csv')"
   ]
  },
  {
   "cell_type": "markdown",
   "metadata": {},
   "source": [
    "# Irreg"
   ]
  },
  {
   "cell_type": "code",
   "execution_count": 153,
   "metadata": {},
   "outputs": [],
   "source": [
    "def point_in_bbox(x,y, bbox):\n",
    "    lower_y = bbox['lower_y']\n",
    "    left_x = bbox['left_x']\n",
    "    upper_y = bbox['upper_y']\n",
    "    rigth_x = bbox['rigth_x']\n",
    "    return (left_x <= x) & (x <= rigth_x) & (lower_y <= y) & (y <= upper_y)"
   ]
  },
  {
   "cell_type": "code",
   "execution_count": 155,
   "metadata": {},
   "outputs": [],
   "source": [
    "def line_intersect_bbox(line_str, bbox):\n",
    "    line_dict = ast.literal_eval(line_str)\n",
    "    coords = line_dict['coordinates']\n",
    "    for point in coords:\n",
    "        x = point[0]\n",
    "        y = point[1]\n",
    "        if point_in_bbox(x,y, bbox):\n",
    "            return True\n",
    "    return False"
   ]
  },
  {
   "cell_type": "code",
   "execution_count": 261,
   "metadata": {},
   "outputs": [],
   "source": [
    "irreg_data = pd.read_csv(RAW_PATH/\"irregularities.csv\")"
   ]
  },
  {
   "cell_type": "code",
   "execution_count": 262,
   "metadata": {},
   "outputs": [],
   "source": [
    "irreg_data['bbox1'] = irreg_data['irre_geojson'].apply(lambda x: line_intersect_bbox(x, bbox1))"
   ]
  },
  {
   "cell_type": "code",
   "execution_count": 263,
   "metadata": {},
   "outputs": [],
   "source": [
    "irreg_data['bbox2'] = irreg_data['irre_geojson'].apply(lambda x: line_intersect_bbox(x, bbox2))"
   ]
  },
  {
   "cell_type": "code",
   "execution_count": 264,
   "metadata": {},
   "outputs": [],
   "source": [
    "irreg_data['bbox3'] = irreg_data['irre_geojson'].apply(lambda x: line_intersect_bbox(x, bbox3))"
   ]
  },
  {
   "cell_type": "code",
   "execution_count": 265,
   "metadata": {},
   "outputs": [],
   "source": [
    "irreg_data['bbox4'] = irreg_data['irre_geojson'].apply(lambda x: line_intersect_bbox(x, bbox4))"
   ]
  },
  {
   "cell_type": "code",
   "execution_count": 266,
   "metadata": {},
   "outputs": [],
   "source": [
    "irreg_data['bbox5'] = irreg_data['irre_geojson'].apply(lambda x: line_intersect_bbox(x, bbox5))"
   ]
  },
  {
   "cell_type": "code",
   "execution_count": 267,
   "metadata": {},
   "outputs": [],
   "source": [
    "irreg_data['bbox6'] = irreg_data['irre_geojson'].apply(lambda x: line_intersect_bbox(x, bbox6))"
   ]
  },
  {
   "cell_type": "code",
   "execution_count": 268,
   "metadata": {},
   "outputs": [],
   "source": [
    "irreg_data['bbox7'] = irreg_data['irre_geojson'].apply(lambda x: line_intersect_bbox(x, bbox7))"
   ]
  },
  {
   "cell_type": "code",
   "execution_count": 269,
   "metadata": {},
   "outputs": [],
   "source": [
    "irreg_data['bbox8'] = irreg_data['irre_geojson'].apply(lambda x: line_intersect_bbox(x, bbox8))"
   ]
  },
  {
   "cell_type": "code",
   "execution_count": 277,
   "metadata": {},
   "outputs": [
    {
     "data": {
      "text/html": [
       "<div>\n",
       "<style scoped>\n",
       "    .dataframe tbody tr th:only-of-type {\n",
       "        vertical-align: middle;\n",
       "    }\n",
       "\n",
       "    .dataframe tbody tr th {\n",
       "        vertical-align: top;\n",
       "    }\n",
       "\n",
       "    .dataframe thead th {\n",
       "        text-align: right;\n",
       "    }\n",
       "</style>\n",
       "<table border=\"1\" class=\"dataframe\">\n",
       "  <thead>\n",
       "    <tr style=\"text-align: right;\">\n",
       "      <th></th>\n",
       "      <th>id</th>\n",
       "      <th>min_hour</th>\n",
       "      <th>max_hour</th>\n",
       "      <th>street</th>\n",
       "      <th>length</th>\n",
       "      <th>nthumbsup</th>\n",
       "      <th>driverscount</th>\n",
       "      <th>irre_geojson</th>\n",
       "      <th>bbox1</th>\n",
       "      <th>bbox2</th>\n",
       "      <th>bbox3</th>\n",
       "      <th>bbox4</th>\n",
       "      <th>bbox5</th>\n",
       "      <th>bbox6</th>\n",
       "      <th>bbox7</th>\n",
       "      <th>bbox8</th>\n",
       "    </tr>\n",
       "  </thead>\n",
       "  <tbody>\n",
       "    <tr>\n",
       "      <th>0</th>\n",
       "      <td>162402419</td>\n",
       "      <td>11</td>\n",
       "      <td>11</td>\n",
       "      <td>Marg. Pinheiros</td>\n",
       "      <td>5899</td>\n",
       "      <td>59</td>\n",
       "      <td>3050</td>\n",
       "      <td>{\"type\":\"LineString\", \"coordinates\":[[-46.7272...</td>\n",
       "      <td>False</td>\n",
       "      <td>False</td>\n",
       "      <td>False</td>\n",
       "      <td>False</td>\n",
       "      <td>False</td>\n",
       "      <td>False</td>\n",
       "      <td>False</td>\n",
       "      <td>False</td>\n",
       "    </tr>\n",
       "    <tr>\n",
       "      <th>1</th>\n",
       "      <td>162401047</td>\n",
       "      <td>8</td>\n",
       "      <td>8</td>\n",
       "      <td>SP-348 S Rod. dos Bandeirantes</td>\n",
       "      <td>3846</td>\n",
       "      <td>57</td>\n",
       "      <td>1007</td>\n",
       "      <td>{\"type\":\"LineString\", \"coordinates\":[[-46.7406...</td>\n",
       "      <td>False</td>\n",
       "      <td>False</td>\n",
       "      <td>False</td>\n",
       "      <td>False</td>\n",
       "      <td>False</td>\n",
       "      <td>False</td>\n",
       "      <td>False</td>\n",
       "      <td>False</td>\n",
       "    </tr>\n",
       "    <tr>\n",
       "      <th>2</th>\n",
       "      <td>162406068</td>\n",
       "      <td>17</td>\n",
       "      <td>17</td>\n",
       "      <td>SP-280 O Rod. Pres. Castello Branco</td>\n",
       "      <td>6678</td>\n",
       "      <td>45</td>\n",
       "      <td>343</td>\n",
       "      <td>{\"type\":\"LineString\", \"coordinates\":[[-46.7995...</td>\n",
       "      <td>False</td>\n",
       "      <td>False</td>\n",
       "      <td>False</td>\n",
       "      <td>False</td>\n",
       "      <td>False</td>\n",
       "      <td>False</td>\n",
       "      <td>False</td>\n",
       "      <td>False</td>\n",
       "    </tr>\n",
       "    <tr>\n",
       "      <th>3</th>\n",
       "      <td>162406236</td>\n",
       "      <td>18</td>\n",
       "      <td>18</td>\n",
       "      <td>Pista Expressa Marg. Tietê</td>\n",
       "      <td>7855</td>\n",
       "      <td>39</td>\n",
       "      <td>1825</td>\n",
       "      <td>{\"type\":\"LineString\", \"coordinates\":[[-46.6325...</td>\n",
       "      <td>True</td>\n",
       "      <td>False</td>\n",
       "      <td>False</td>\n",
       "      <td>False</td>\n",
       "      <td>False</td>\n",
       "      <td>False</td>\n",
       "      <td>True</td>\n",
       "      <td>False</td>\n",
       "    </tr>\n",
       "    <tr>\n",
       "      <th>4</th>\n",
       "      <td>162400697</td>\n",
       "      <td>8</td>\n",
       "      <td>8</td>\n",
       "      <td>Av. Morvan Dias de Figueiredo</td>\n",
       "      <td>4354</td>\n",
       "      <td>34</td>\n",
       "      <td>2167</td>\n",
       "      <td>{\"type\":\"LineString\", \"coordinates\":[[-46.5910...</td>\n",
       "      <td>True</td>\n",
       "      <td>False</td>\n",
       "      <td>False</td>\n",
       "      <td>False</td>\n",
       "      <td>False</td>\n",
       "      <td>False</td>\n",
       "      <td>False</td>\n",
       "      <td>False</td>\n",
       "    </tr>\n",
       "  </tbody>\n",
       "</table>\n",
       "</div>"
      ],
      "text/plain": [
       "          id  min_hour  max_hour                               street  length  \\\n",
       "0  162402419        11        11                      Marg. Pinheiros    5899   \n",
       "1  162401047         8         8       SP-348 S Rod. dos Bandeirantes    3846   \n",
       "2  162406068        17        17  SP-280 O Rod. Pres. Castello Branco    6678   \n",
       "3  162406236        18        18           Pista Expressa Marg. Tietê    7855   \n",
       "4  162400697         8         8        Av. Morvan Dias de Figueiredo    4354   \n",
       "\n",
       "   nthumbsup  driverscount                                       irre_geojson  \\\n",
       "0         59          3050  {\"type\":\"LineString\", \"coordinates\":[[-46.7272...   \n",
       "1         57          1007  {\"type\":\"LineString\", \"coordinates\":[[-46.7406...   \n",
       "2         45           343  {\"type\":\"LineString\", \"coordinates\":[[-46.7995...   \n",
       "3         39          1825  {\"type\":\"LineString\", \"coordinates\":[[-46.6325...   \n",
       "4         34          2167  {\"type\":\"LineString\", \"coordinates\":[[-46.5910...   \n",
       "\n",
       "   bbox1  bbox2  bbox3  bbox4  bbox5  bbox6  bbox7  bbox8  \n",
       "0  False  False  False  False  False  False  False  False  \n",
       "1  False  False  False  False  False  False  False  False  \n",
       "2  False  False  False  False  False  False  False  False  \n",
       "3   True  False  False  False  False  False   True  False  \n",
       "4   True  False  False  False  False  False  False  False  "
      ]
     },
     "execution_count": 277,
     "metadata": {},
     "output_type": "execute_result"
    }
   ],
   "source": [
    "irreg_data.head()"
   ]
  },
  {
   "cell_type": "code",
   "execution_count": 299,
   "metadata": {},
   "outputs": [],
   "source": [
    "jam_reg = irreg_data.loc[irreg_data['bbox1'], 'min_hour':'driverscount']"
   ]
  },
  {
   "cell_type": "code",
   "execution_count": 314,
   "metadata": {},
   "outputs": [],
   "source": [
    "jams = {}"
   ]
  },
  {
   "cell_type": "code",
   "execution_count": 315,
   "metadata": {},
   "outputs": [],
   "source": [
    "for i in range(1,9):\n",
    "    jams[f'region{i}'] = {}\n",
    "    jam_reg = irreg_data.loc[irreg_data[f'bbox{i}'], 'min_hour':'driverscount']\n",
    "    jam_hour = {h: jam_reg.loc[(jam_reg['min_hour'] <= h) & (h <= jam_reg['max_hour']), 'length'].sum() for h in range(-2, 24)}\n",
    "    jams[f'region{i}']['hour_max_jam'] = max(jam_hour.items(), key=operator.itemgetter(1))[0]\n",
    "    jams[f'region{i}']['max_jam'] = max(jam_hour.items(), key=operator.itemgetter(1))[1]"
   ]
  },
  {
   "cell_type": "code",
   "execution_count": 316,
   "metadata": {},
   "outputs": [
    {
     "data": {
      "text/plain": [
       "{'region1': {'hour_max_jam': 8, 'max_jam': 44732},\n",
       " 'region2': {'hour_max_jam': 9, 'max_jam': 20856},\n",
       " 'region3': {'hour_max_jam': 9, 'max_jam': 6819},\n",
       " 'region4': {'hour_max_jam': 7, 'max_jam': 613},\n",
       " 'region5': {'hour_max_jam': 10, 'max_jam': 4106},\n",
       " 'region6': {'hour_max_jam': 8, 'max_jam': 4229},\n",
       " 'region7': {'hour_max_jam': 8, 'max_jam': 25341},\n",
       " 'region8': {'hour_max_jam': -2, 'max_jam': 0}}"
      ]
     },
     "execution_count": 316,
     "metadata": {},
     "output_type": "execute_result"
    }
   ],
   "source": [
    "jams"
   ]
  },
  {
   "cell_type": "code",
   "execution_count": 318,
   "metadata": {},
   "outputs": [
    {
     "data": {
      "text/html": [
       "<div>\n",
       "<style scoped>\n",
       "    .dataframe tbody tr th:only-of-type {\n",
       "        vertical-align: middle;\n",
       "    }\n",
       "\n",
       "    .dataframe tbody tr th {\n",
       "        vertical-align: top;\n",
       "    }\n",
       "\n",
       "    .dataframe thead th {\n",
       "        text-align: right;\n",
       "    }\n",
       "</style>\n",
       "<table border=\"1\" class=\"dataframe\">\n",
       "  <thead>\n",
       "    <tr style=\"text-align: right;\">\n",
       "      <th></th>\n",
       "      <th>min_hour</th>\n",
       "      <th>max_hour</th>\n",
       "      <th>street</th>\n",
       "      <th>length</th>\n",
       "      <th>nthumbsup</th>\n",
       "      <th>driverscount</th>\n",
       "    </tr>\n",
       "  </thead>\n",
       "  <tbody>\n",
       "  </tbody>\n",
       "</table>\n",
       "</div>"
      ],
      "text/plain": [
       "Empty DataFrame\n",
       "Columns: [min_hour, max_hour, street, length, nthumbsup, driverscount]\n",
       "Index: []"
      ]
     },
     "execution_count": 318,
     "metadata": {},
     "output_type": "execute_result"
    }
   ],
   "source": [
    "jam_reg8.head()"
   ]
  },
  {
   "cell_type": "code",
   "execution_count": 317,
   "metadata": {},
   "outputs": [
    {
     "data": {
      "text/plain": [
       "{-2: 0,\n",
       " -1: 0,\n",
       " 0: 0,\n",
       " 1: 0,\n",
       " 2: 0,\n",
       " 3: 0,\n",
       " 4: 0,\n",
       " 5: 0,\n",
       " 6: 0,\n",
       " 7: 0,\n",
       " 8: 0,\n",
       " 9: 0,\n",
       " 10: 0,\n",
       " 11: 0,\n",
       " 12: 0,\n",
       " 13: 0,\n",
       " 14: 0,\n",
       " 15: 0,\n",
       " 16: 0,\n",
       " 17: 0,\n",
       " 18: 0,\n",
       " 19: 0,\n",
       " 20: 0,\n",
       " 21: 0,\n",
       " 22: 0,\n",
       " 23: 0}"
      ]
     },
     "execution_count": 317,
     "metadata": {},
     "output_type": "execute_result"
    }
   ],
   "source": [
    "jam_reg8 = irreg_data.loc[irreg_data[f'bbox8'], 'min_hour':'driverscount']\n",
    "jam_hour8 = {h: jam_reg.loc[(jam_reg['min_hour'] <= h) & (h <= jam_reg['max_hour']), 'length'].sum() for h in range(-2, 24)}\n",
    "jam_hour8"
   ]
  },
  {
   "cell_type": "markdown",
   "metadata": {},
   "source": [
    "# Distribuição de Acidentes"
   ]
  },
  {
   "cell_type": "markdown",
   "metadata": {},
   "source": [
    "## Heat Map"
   ]
  },
  {
   "cell_type": "code",
   "execution_count": 24,
   "metadata": {},
   "outputs": [],
   "source": [
    "cities[city]['clusters'].to_csv('clusters.csv')"
   ]
  },
  {
   "cell_type": "markdown",
   "metadata": {},
   "source": [
    "# Next Step"
   ]
  },
  {
   "cell_type": "code",
   "execution_count": null,
   "metadata": {},
   "outputs": [],
   "source": [
    "acc = sp['accidents'].loc[sp['accidents']['start_time']> '2018-10-31']"
   ]
  },
  {
   "cell_type": "code",
   "execution_count": null,
   "metadata": {},
   "outputs": [],
   "source": [
    "clusters = wa.clustering(acc, eps_spatial=200, eps_temporal=3600)"
   ]
  },
  {
   "cell_type": "code",
   "execution_count": null,
   "metadata": {},
   "outputs": [],
   "source": [
    "exp = pd.DataFrame(clusters).T.drop(columns=['uuid list'])"
   ]
  },
  {
   "cell_type": "code",
   "execution_count": null,
   "metadata": {},
   "outputs": [],
   "source": [
    "#clusters"
   ]
  },
  {
   "cell_type": "markdown",
   "metadata": {},
   "source": [
    "# Exploração/Bagunça"
   ]
  },
  {
   "cell_type": "markdown",
   "metadata": {},
   "source": [
    "## Observando os dados puros"
   ]
  },
  {
   "cell_type": "markdown",
   "metadata": {},
   "source": [
    "A conclusão da exploração abaixo é que basta pegar dois pontos, inicial e final, e tomar alguns cuidados com as demais colunas. A query pode ser vista no script waze-accidents.py"
   ]
  },
  {
   "cell_type": "code",
   "execution_count": null,
   "metadata": {},
   "outputs": [],
   "source": [
    "city = cities['São Paulo']\n",
    "\n",
    "city['accidents'] = pd.read_sql_query(f\"\"\"select uuid, pub_utc_date, location_x, location_y, subtype,\n",
    "                                            reliability, confidence, thumbs_up, jam_uuid, report_by_municipality_user\n",
    "                                            from waze.alerts\n",
    "                                            where city = '{city['city']}' AND type = 'ACCIDENT'\"\"\", con)\n"
   ]
  },
  {
   "cell_type": "code",
   "execution_count": null,
   "metadata": {},
   "outputs": [],
   "source": [
    "city['accidents']['pub_utc_date'] = city['accidents']['pub_utc_date'].apply(lambda x: x.replace(tzinfo=pytz.utc)\n",
    "                                                                            .astimezone(city['timezone'])\n",
    "                                                                            .replace(tzinfo=None))\n",
    "\n",
    "#city['accidents'].set_index('pub_utc_date', inplace=True)\n",
    "city['accidents'].rename(columns={'sum': 'length_raw'}, inplace=True)\n",
    "city['accidents'].sort_index(inplace=True)"
   ]
  },
  {
   "cell_type": "code",
   "execution_count": null,
   "metadata": {},
   "outputs": [],
   "source": [
    "accidents = cities['São Paulo']['accidents']"
   ]
  },
  {
   "cell_type": "code",
   "execution_count": null,
   "metadata": {},
   "outputs": [],
   "source": [
    "accidents['uuid'].agg(['nunique','count','size'])"
   ]
  },
  {
   "cell_type": "code",
   "execution_count": null,
   "metadata": {},
   "outputs": [],
   "source": [
    "accidents.head()"
   ]
  },
  {
   "cell_type": "code",
   "execution_count": null,
   "metadata": {},
   "outputs": [],
   "source": [
    "explore_uuid = accidents.groupby('uuid').nunique()"
   ]
  },
  {
   "cell_type": "code",
   "execution_count": null,
   "metadata": {},
   "outputs": [],
   "source": [
    "accidents.loc[accidents['uuid'] == 'cf56e91d-4b3f-3aec-9a5c-a4edbc10cf82', ['location_x', 'location_y']].groupby(['location_x']).count()"
   ]
  },
  {
   "cell_type": "code",
   "execution_count": null,
   "metadata": {},
   "outputs": [],
   "source": [
    "accidents.loc[accidents['uuid'] == 'cf56e91d-4b3f-3aec-9a5c-a4edbc10cf82', ['location_x', 'location_y']].groupby(['location_y']).count()"
   ]
  },
  {
   "cell_type": "code",
   "execution_count": null,
   "metadata": {},
   "outputs": [],
   "source": [
    "explore_uuid.apply(max,axis=0)"
   ]
  },
  {
   "cell_type": "code",
   "execution_count": null,
   "metadata": {},
   "outputs": [],
   "source": [
    "explore_uuid.loc[explore_uuid['location_x']==5]"
   ]
  },
  {
   "cell_type": "code",
   "execution_count": null,
   "metadata": {},
   "outputs": [],
   "source": [
    "cities = wa.download_accidents_data('São Paulo', cities)"
   ]
  },
  {
   "cell_type": "code",
   "execution_count": null,
   "metadata": {},
   "outputs": [],
   "source": []
  },
  {
   "cell_type": "code",
   "execution_count": null,
   "metadata": {},
   "outputs": [],
   "source": []
  }
 ],
 "metadata": {
  "kernelspec": {
   "display_name": "Python 3",
   "language": "python",
   "name": "python3"
  },
  "language_info": {
   "codemirror_mode": {
    "name": "ipython",
    "version": 3
   },
   "file_extension": ".py",
   "mimetype": "text/x-python",
   "name": "python",
   "nbconvert_exporter": "python",
   "pygments_lexer": "ipython3",
   "version": "3.6.5"
  },
  "toc": {
   "base_numbering": 1,
   "nav_menu": {},
   "number_sections": true,
   "sideBar": true,
   "skip_h1_title": false,
   "title_cell": "Table of Contents",
   "title_sidebar": "Contents",
   "toc_cell": false,
   "toc_position": {},
   "toc_section_display": true,
   "toc_window_display": false
  }
 },
 "nbformat": 4,
 "nbformat_minor": 2
}
