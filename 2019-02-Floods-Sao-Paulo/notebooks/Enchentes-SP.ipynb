{
 "cells": [
  {
   "cell_type": "code",
   "execution_count": 2,
   "metadata": {},
   "outputs": [
    {
     "data": {
      "text/html": [
       "<script type=\"text/javascript\">window.PlotlyConfig = {MathJaxConfig: 'local'};</script><script type=\"text/javascript\">if (window.MathJax) {MathJax.Hub.Config({SVG: {font: \"STIX-Web\"}});}</script><script>requirejs.config({paths: { 'plotly': ['https://cdn.plot.ly/plotly-latest.min']},});if(!window._Plotly) {require(['plotly'],function(plotly) {window._Plotly=plotly;});}</script>"
      ],
      "text/vnd.plotly.v1+html": [
       "<script type=\"text/javascript\">window.PlotlyConfig = {MathJaxConfig: 'local'};</script><script type=\"text/javascript\">if (window.MathJax) {MathJax.Hub.Config({SVG: {font: \"STIX-Web\"}});}</script><script>requirejs.config({paths: { 'plotly': ['https://cdn.plot.ly/plotly-latest.min']},});if(!window._Plotly) {require(['plotly'],function(plotly) {window._Plotly=plotly;});}</script>"
      ]
     },
     "metadata": {},
     "output_type": "display_data"
    }
   ],
   "source": [
    "%reload_ext autoreload\n",
    "%autoreload 2\n",
    "\n",
    "import sys\n",
    "from pathlib import Path \n",
    "current_path = Path().resolve()\n",
    "abs_path = str(current_path.parent)\n",
    "sys.path.append(abs_path)\n",
    "\n",
    "import warnings\n",
    "warnings.filterwarnings('ignore')\n",
    "\n",
    "from collections import defaultdict\n",
    "\n",
    "import numpy as np\n",
    "import pandas as pd\n",
    "pd.set_option('display.max_columns', None)\n",
    "\n",
    "import plotly.graph_objs as go\n",
    "import plotly.plotly as py\n",
    "import plotly.offline as offline\n",
    "offline.init_notebook_mode(connected=True)\n",
    "\n",
    "import sqlalchemy as sa\n",
    "from datetime import datetime as dt\n",
    "import pytz\n",
    "import osmnx as ox\n",
    "import ast\n",
    "import operator\n",
    "\n",
    "RAW_PATH = current_path.parent / 'data' / 'raw'\n",
    "OUTPUT_PATH = current_path.parent / 'data' / 'output'"
   ]
  },
  {
   "cell_type": "code",
   "execution_count": 11,
   "metadata": {},
   "outputs": [],
   "source": [
    "import scripts.waze_flood as wf"
   ]
  },
  {
   "cell_type": "markdown",
   "metadata": {},
   "source": [
    "# Downloading Data"
   ]
  },
  {
   "cell_type": "markdown",
   "metadata": {},
   "source": [
    "## Downloanding Cities Metadata"
   ]
  },
  {
   "cell_type": "code",
   "execution_count": 15,
   "metadata": {},
   "outputs": [],
   "source": [
    "#cities = wa.get_cities_metadata()"
   ]
  },
  {
   "cell_type": "markdown",
   "metadata": {},
   "source": [
    "## Donwloading São Paulo Enchentes"
   ]
  },
  {
   "cell_type": "markdown",
   "metadata": {},
   "source": [
    "### Tentativa por conexão direta com Athena"
   ]
  },
  {
   "cell_type": "code",
   "execution_count": 1,
   "metadata": {},
   "outputs": [],
   "source": [
    "from pyathena import connect\n",
    "\n",
    "conn = connect(s3_staging_dir='s3://aws-athena-queries-result-east-2/join-pems-waze',\n",
    "               region_name='us-east-2')"
   ]
  },
  {
   "cell_type": "code",
   "execution_count": 4,
   "metadata": {},
   "outputs": [],
   "source": [
    "query = \"\"\"\n",
    "        SELECT *,\n",
    "                 pub_utc_date AT TIME ZONE 'America/Sao_Paulo' AS local_time\n",
    "        FROM cities.br_saopaulo_waze_alerts\n",
    "        WHERE day = 4\n",
    "                AND month = 2\n",
    "                AND subtype = 'HAZARD_WEATHER_FLOOD';\"\"\""
   ]
  },
  {
   "cell_type": "code",
   "execution_count": 5,
   "metadata": {},
   "outputs": [],
   "source": [
    "df = pd.read_sql(query, conn)"
   ]
  },
  {
   "cell_type": "markdown",
   "metadata": {},
   "source": [
    "### Upload do csv para servidor e leitura dos dados raw"
   ]
  },
  {
   "cell_type": "code",
   "execution_count": 162,
   "metadata": {},
   "outputs": [],
   "source": [
    "df = pd.read_csv(RAW_PATH/\"sp-19-02-04-enchentes.csv\")"
   ]
  },
  {
   "cell_type": "code",
   "execution_count": 163,
   "metadata": {},
   "outputs": [
    {
     "data": {
      "text/html": [
       "<div>\n",
       "<style scoped>\n",
       "    .dataframe tbody tr th:only-of-type {\n",
       "        vertical-align: middle;\n",
       "    }\n",
       "\n",
       "    .dataframe tbody tr th {\n",
       "        vertical-align: top;\n",
       "    }\n",
       "\n",
       "    .dataframe thead th {\n",
       "        text-align: right;\n",
       "    }\n",
       "</style>\n",
       "<table border=\"1\" class=\"dataframe\">\n",
       "  <thead>\n",
       "    <tr style=\"text-align: right;\">\n",
       "      <th></th>\n",
       "      <th>uuid</th>\n",
       "      <th>start_time</th>\n",
       "      <th>end_time</th>\n",
       "      <th>location_x</th>\n",
       "      <th>location_y</th>\n",
       "      <th>reliability_min</th>\n",
       "      <th>reliability_max</th>\n",
       "      <th>confidence_min</th>\n",
       "      <th>confidence_max</th>\n",
       "      <th>thumbs_up</th>\n",
       "    </tr>\n",
       "  </thead>\n",
       "  <tbody>\n",
       "    <tr>\n",
       "      <th>0</th>\n",
       "      <td>1502b430-6a10-30a5-838f-8e2558f1278d</td>\n",
       "      <td>2019-02-04 04:32:00.000 America/Sao_Paulo</td>\n",
       "      <td>2019-02-04 05:32:00.000 America/Sao_Paulo</td>\n",
       "      <td>-46.597846</td>\n",
       "      <td>-23.589049</td>\n",
       "      <td>5</td>\n",
       "      <td>5</td>\n",
       "      <td>0</td>\n",
       "      <td>0</td>\n",
       "      <td>0</td>\n",
       "    </tr>\n",
       "    <tr>\n",
       "      <th>1</th>\n",
       "      <td>c0d05331-f674-38e1-be03-e3e381cc56f6</td>\n",
       "      <td>2019-02-04 06:14:00.000 America/Sao_Paulo</td>\n",
       "      <td>2019-02-04 07:23:00.000 America/Sao_Paulo</td>\n",
       "      <td>-46.627209</td>\n",
       "      <td>-23.542519</td>\n",
       "      <td>5</td>\n",
       "      <td>6</td>\n",
       "      <td>0</td>\n",
       "      <td>0</td>\n",
       "      <td>1</td>\n",
       "    </tr>\n",
       "    <tr>\n",
       "      <th>2</th>\n",
       "      <td>12f179a6-2785-3464-b7ba-e3bdc97f011c</td>\n",
       "      <td>2019-02-04 05:14:00.000 America/Sao_Paulo</td>\n",
       "      <td>2019-02-04 07:38:00.000 America/Sao_Paulo</td>\n",
       "      <td>-46.600856</td>\n",
       "      <td>-23.620926</td>\n",
       "      <td>5</td>\n",
       "      <td>10</td>\n",
       "      <td>0</td>\n",
       "      <td>5</td>\n",
       "      <td>10</td>\n",
       "    </tr>\n",
       "    <tr>\n",
       "      <th>3</th>\n",
       "      <td>aca8e63c-0571-3ad1-a49f-67b3a96bf1ec</td>\n",
       "      <td>2019-02-04 06:14:00.000 America/Sao_Paulo</td>\n",
       "      <td>2019-02-04 07:36:00.000 America/Sao_Paulo</td>\n",
       "      <td>-46.496549</td>\n",
       "      <td>-23.582749</td>\n",
       "      <td>5</td>\n",
       "      <td>6</td>\n",
       "      <td>0</td>\n",
       "      <td>0</td>\n",
       "      <td>0</td>\n",
       "    </tr>\n",
       "    <tr>\n",
       "      <th>4</th>\n",
       "      <td>18881355-0b03-3f59-8471-d10f20a2a767</td>\n",
       "      <td>2019-02-04 02:56:00.000 America/Sao_Paulo</td>\n",
       "      <td>2019-02-04 03:56:00.000 America/Sao_Paulo</td>\n",
       "      <td>-46.620492</td>\n",
       "      <td>-23.552413</td>\n",
       "      <td>5</td>\n",
       "      <td>5</td>\n",
       "      <td>0</td>\n",
       "      <td>0</td>\n",
       "      <td>0</td>\n",
       "    </tr>\n",
       "  </tbody>\n",
       "</table>\n",
       "</div>"
      ],
      "text/plain": [
       "                                   uuid  \\\n",
       "0  1502b430-6a10-30a5-838f-8e2558f1278d   \n",
       "1  c0d05331-f674-38e1-be03-e3e381cc56f6   \n",
       "2  12f179a6-2785-3464-b7ba-e3bdc97f011c   \n",
       "3  aca8e63c-0571-3ad1-a49f-67b3a96bf1ec   \n",
       "4  18881355-0b03-3f59-8471-d10f20a2a767   \n",
       "\n",
       "                                  start_time  \\\n",
       "0  2019-02-04 04:32:00.000 America/Sao_Paulo   \n",
       "1  2019-02-04 06:14:00.000 America/Sao_Paulo   \n",
       "2  2019-02-04 05:14:00.000 America/Sao_Paulo   \n",
       "3  2019-02-04 06:14:00.000 America/Sao_Paulo   \n",
       "4  2019-02-04 02:56:00.000 America/Sao_Paulo   \n",
       "\n",
       "                                    end_time  location_x  location_y  \\\n",
       "0  2019-02-04 05:32:00.000 America/Sao_Paulo  -46.597846  -23.589049   \n",
       "1  2019-02-04 07:23:00.000 America/Sao_Paulo  -46.627209  -23.542519   \n",
       "2  2019-02-04 07:38:00.000 America/Sao_Paulo  -46.600856  -23.620926   \n",
       "3  2019-02-04 07:36:00.000 America/Sao_Paulo  -46.496549  -23.582749   \n",
       "4  2019-02-04 03:56:00.000 America/Sao_Paulo  -46.620492  -23.552413   \n",
       "\n",
       "   reliability_min  reliability_max  confidence_min  confidence_max  thumbs_up  \n",
       "0                5                5               0               0          0  \n",
       "1                5                6               0               0          1  \n",
       "2                5               10               0               5         10  \n",
       "3                5                6               0               0          0  \n",
       "4                5                5               0               0          0  "
      ]
     },
     "execution_count": 163,
     "metadata": {},
     "output_type": "execute_result"
    }
   ],
   "source": [
    "df.head()"
   ]
  },
  {
   "cell_type": "markdown",
   "metadata": {},
   "source": [
    "### Time Range"
   ]
  },
  {
   "cell_type": "code",
   "execution_count": 164,
   "metadata": {},
   "outputs": [
    {
     "data": {
      "text/plain": [
       "0    2019-02-03 21:57:00.000 America/Sao_Paulo\n",
       "1    2019-02-04 21:56:00.000 America/Sao_Paulo\n",
       "dtype: object"
      ]
     },
     "execution_count": 164,
     "metadata": {},
     "output_type": "execute_result"
    }
   ],
   "source": [
    "wf.get_timerange(df)"
   ]
  },
  {
   "cell_type": "markdown",
   "metadata": {},
   "source": [
    "## OSM Graph"
   ]
  },
  {
   "cell_type": "code",
   "execution_count": 18,
   "metadata": {},
   "outputs": [
    {
     "name": "stdout",
     "output_type": "stream",
     "text": [
      "[DEBUG] /home/master/cts/cities/waze-tools/wazetools/data/data_transform.py:68 get_osm(): Fetching data from cache\n",
      "[DEBUG] /home/master/cts/cities/waze-tools/wazetools/data/data_transform.py:68 get_osm(): Fetching data from cache in 2.69 s\n"
     ]
    }
   ],
   "source": [
    "#cities = wa.download_osm_graph(city, cities)"
   ]
  },
  {
   "cell_type": "markdown",
   "metadata": {},
   "source": [
    "# Data pre-processing"
   ]
  },
  {
   "cell_type": "markdown",
   "metadata": {},
   "source": [
    "## Clustering Enchentes"
   ]
  },
  {
   "cell_type": "code",
   "execution_count": 165,
   "metadata": {},
   "outputs": [],
   "source": [
    "df['start_time'] = df['start_time'].apply(lambda x: dt.strptime(x, '%Y-%m-%d %H:%M:%S.000 America/Sao_Paulo'))\n",
    "df['end_time'] = df['end_time'].apply(lambda x: dt.strptime(x, '%Y-%m-%d %H:%M:%S.000 America/Sao_Paulo'))"
   ]
  },
  {
   "cell_type": "code",
   "execution_count": 166,
   "metadata": {},
   "outputs": [],
   "source": [
    "clusters_dict = wa.clustering(df, eps_spatial=200, eps_temporal=3600)"
   ]
  },
  {
   "cell_type": "code",
   "execution_count": 167,
   "metadata": {},
   "outputs": [],
   "source": [
    "clusters_bkup = clusters_dict.copy()"
   ]
  },
  {
   "cell_type": "code",
   "execution_count": 168,
   "metadata": {},
   "outputs": [],
   "source": [
    "clusters = pd.DataFrame(clusters_dict).T.drop(columns=['uuid list']).rename_axis('cluster')"
   ]
  },
  {
   "cell_type": "code",
   "execution_count": 169,
   "metadata": {},
   "outputs": [],
   "source": [
    "clusters['interactions'] = clusters['thumbs_up'] + clusters['uuid count']"
   ]
  },
  {
   "cell_type": "code",
   "execution_count": 170,
   "metadata": {},
   "outputs": [
    {
     "data": {
      "text/html": [
       "<div>\n",
       "<style scoped>\n",
       "    .dataframe tbody tr th:only-of-type {\n",
       "        vertical-align: middle;\n",
       "    }\n",
       "\n",
       "    .dataframe tbody tr th {\n",
       "        vertical-align: top;\n",
       "    }\n",
       "\n",
       "    .dataframe thead th {\n",
       "        text-align: right;\n",
       "    }\n",
       "</style>\n",
       "<table border=\"1\" class=\"dataframe\">\n",
       "  <thead>\n",
       "    <tr style=\"text-align: right;\">\n",
       "      <th></th>\n",
       "      <th>confidence_max</th>\n",
       "      <th>confidence_min</th>\n",
       "      <th>end_time</th>\n",
       "      <th>location_x</th>\n",
       "      <th>location_y</th>\n",
       "      <th>reliability_max</th>\n",
       "      <th>reliability_min</th>\n",
       "      <th>start_time</th>\n",
       "      <th>thumbs_up</th>\n",
       "      <th>uuid count</th>\n",
       "      <th>interactions</th>\n",
       "    </tr>\n",
       "    <tr>\n",
       "      <th>cluster</th>\n",
       "      <th></th>\n",
       "      <th></th>\n",
       "      <th></th>\n",
       "      <th></th>\n",
       "      <th></th>\n",
       "      <th></th>\n",
       "      <th></th>\n",
       "      <th></th>\n",
       "      <th></th>\n",
       "      <th></th>\n",
       "      <th></th>\n",
       "    </tr>\n",
       "  </thead>\n",
       "  <tbody>\n",
       "    <tr>\n",
       "      <th>1</th>\n",
       "      <td>0</td>\n",
       "      <td>0</td>\n",
       "      <td>2019-02-04 05:32:00</td>\n",
       "      <td>-46.5978</td>\n",
       "      <td>-23.589</td>\n",
       "      <td>5</td>\n",
       "      <td>5</td>\n",
       "      <td>2019-02-04 04:32:00</td>\n",
       "      <td>0</td>\n",
       "      <td>1</td>\n",
       "      <td>1</td>\n",
       "    </tr>\n",
       "  </tbody>\n",
       "</table>\n",
       "</div>"
      ],
      "text/plain": [
       "        confidence_max confidence_min             end_time location_x  \\\n",
       "cluster                                                                 \n",
       "1                    0              0  2019-02-04 05:32:00   -46.5978   \n",
       "\n",
       "        location_y reliability_max reliability_min           start_time  \\\n",
       "cluster                                                                   \n",
       "1          -23.589               5               5  2019-02-04 04:32:00   \n",
       "\n",
       "        thumbs_up uuid count interactions  \n",
       "cluster                                    \n",
       "1               0          1            1  "
      ]
     },
     "execution_count": 170,
     "metadata": {},
     "output_type": "execute_result"
    }
   ],
   "source": [
    "clusters.head(1)"
   ]
  },
  {
   "cell_type": "markdown",
   "metadata": {},
   "source": [
    "## Accidents to shapely"
   ]
  },
  {
   "cell_type": "code",
   "execution_count": 171,
   "metadata": {},
   "outputs": [],
   "source": [
    "wf.treat_alert_points(clusters)"
   ]
  },
  {
   "cell_type": "code",
   "execution_count": 172,
   "metadata": {},
   "outputs": [
    {
     "data": {
      "text/html": [
       "<div>\n",
       "<style scoped>\n",
       "    .dataframe tbody tr th:only-of-type {\n",
       "        vertical-align: middle;\n",
       "    }\n",
       "\n",
       "    .dataframe tbody tr th {\n",
       "        vertical-align: top;\n",
       "    }\n",
       "\n",
       "    .dataframe thead th {\n",
       "        text-align: right;\n",
       "    }\n",
       "</style>\n",
       "<table border=\"1\" class=\"dataframe\">\n",
       "  <thead>\n",
       "    <tr style=\"text-align: right;\">\n",
       "      <th></th>\n",
       "      <th>confidence_max</th>\n",
       "      <th>confidence_min</th>\n",
       "      <th>end_time</th>\n",
       "      <th>location_x</th>\n",
       "      <th>location_y</th>\n",
       "      <th>reliability_max</th>\n",
       "      <th>reliability_min</th>\n",
       "      <th>start_time</th>\n",
       "      <th>thumbs_up</th>\n",
       "      <th>uuid count</th>\n",
       "      <th>interactions</th>\n",
       "      <th>point</th>\n",
       "    </tr>\n",
       "    <tr>\n",
       "      <th>cluster</th>\n",
       "      <th></th>\n",
       "      <th></th>\n",
       "      <th></th>\n",
       "      <th></th>\n",
       "      <th></th>\n",
       "      <th></th>\n",
       "      <th></th>\n",
       "      <th></th>\n",
       "      <th></th>\n",
       "      <th></th>\n",
       "      <th></th>\n",
       "      <th></th>\n",
       "    </tr>\n",
       "  </thead>\n",
       "  <tbody>\n",
       "    <tr>\n",
       "      <th>1</th>\n",
       "      <td>0</td>\n",
       "      <td>0</td>\n",
       "      <td>2019-02-04 05:32:00</td>\n",
       "      <td>-46.5978</td>\n",
       "      <td>-23.589</td>\n",
       "      <td>5</td>\n",
       "      <td>5</td>\n",
       "      <td>2019-02-04 04:32:00</td>\n",
       "      <td>0</td>\n",
       "      <td>1</td>\n",
       "      <td>1</td>\n",
       "      <td>POINT (-46.59784599999999 -23.589049)</td>\n",
       "    </tr>\n",
       "  </tbody>\n",
       "</table>\n",
       "</div>"
      ],
      "text/plain": [
       "        confidence_max confidence_min             end_time location_x  \\\n",
       "cluster                                                                 \n",
       "1                    0              0  2019-02-04 05:32:00   -46.5978   \n",
       "\n",
       "        location_y reliability_max reliability_min           start_time  \\\n",
       "cluster                                                                   \n",
       "1          -23.589               5               5  2019-02-04 04:32:00   \n",
       "\n",
       "        thumbs_up uuid count interactions  \\\n",
       "cluster                                     \n",
       "1               0          1            1   \n",
       "\n",
       "                                         point  \n",
       "cluster                                         \n",
       "1        POINT (-46.59784599999999 -23.589049)  "
      ]
     },
     "execution_count": 172,
     "metadata": {},
     "output_type": "execute_result"
    }
   ],
   "source": [
    "clusters.head(1)"
   ]
  },
  {
   "cell_type": "markdown",
   "metadata": {},
   "source": [
    "## Match roads to points"
   ]
  },
  {
   "cell_type": "code",
   "execution_count": null,
   "metadata": {},
   "outputs": [],
   "source": []
  },
  {
   "cell_type": "markdown",
   "metadata": {},
   "source": [
    "# Ranking Clusters by Interactions"
   ]
  },
  {
   "cell_type": "code",
   "execution_count": 173,
   "metadata": {},
   "outputs": [],
   "source": [
    "total_interactions = clusters['interactions'].sum()\n",
    "total_alerts = clusters['uuid count'].sum()"
   ]
  },
  {
   "cell_type": "code",
   "execution_count": 174,
   "metadata": {},
   "outputs": [
    {
     "data": {
      "text/plain": [
       "1720"
      ]
     },
     "execution_count": 174,
     "metadata": {},
     "output_type": "execute_result"
    }
   ],
   "source": [
    "total_interactions"
   ]
  },
  {
   "cell_type": "code",
   "execution_count": 175,
   "metadata": {},
   "outputs": [
    {
     "data": {
      "text/plain": [
       "559"
      ]
     },
     "execution_count": 175,
     "metadata": {},
     "output_type": "execute_result"
    }
   ],
   "source": [
    "total_alerts"
   ]
  },
  {
   "cell_type": "code",
   "execution_count": 176,
   "metadata": {},
   "outputs": [],
   "source": [
    "clusters['pareto'] = clusters['interactions'].sort_values(ascending=False).cumsum() * 100 / total_interactions"
   ]
  },
  {
   "cell_type": "code",
   "execution_count": 193,
   "metadata": {},
   "outputs": [
    {
     "data": {
      "text/html": [
       "<div>\n",
       "<style scoped>\n",
       "    .dataframe tbody tr th:only-of-type {\n",
       "        vertical-align: middle;\n",
       "    }\n",
       "\n",
       "    .dataframe tbody tr th {\n",
       "        vertical-align: top;\n",
       "    }\n",
       "\n",
       "    .dataframe thead th {\n",
       "        text-align: right;\n",
       "    }\n",
       "</style>\n",
       "<table border=\"1\" class=\"dataframe\">\n",
       "  <thead>\n",
       "    <tr style=\"text-align: right;\">\n",
       "      <th></th>\n",
       "      <th>confidence_max</th>\n",
       "      <th>confidence_min</th>\n",
       "      <th>end_time</th>\n",
       "      <th>location_x</th>\n",
       "      <th>location_y</th>\n",
       "      <th>reliability_max</th>\n",
       "      <th>reliability_min</th>\n",
       "      <th>start_time</th>\n",
       "      <th>thumbs_up</th>\n",
       "      <th>uuid count</th>\n",
       "      <th>interactions</th>\n",
       "      <th>point</th>\n",
       "      <th>pareto</th>\n",
       "    </tr>\n",
       "    <tr>\n",
       "      <th>cluster</th>\n",
       "      <th></th>\n",
       "      <th></th>\n",
       "      <th></th>\n",
       "      <th></th>\n",
       "      <th></th>\n",
       "      <th></th>\n",
       "      <th></th>\n",
       "      <th></th>\n",
       "      <th></th>\n",
       "      <th></th>\n",
       "      <th></th>\n",
       "      <th></th>\n",
       "      <th></th>\n",
       "    </tr>\n",
       "  </thead>\n",
       "  <tbody>\n",
       "    <tr>\n",
       "      <th>21</th>\n",
       "      <td>5</td>\n",
       "      <td>0</td>\n",
       "      <td>2019-02-04 11:53:00</td>\n",
       "      <td>-46.63</td>\n",
       "      <td>-23.5195</td>\n",
       "      <td>10</td>\n",
       "      <td>5</td>\n",
       "      <td>2019-02-04 02:36:00</td>\n",
       "      <td>83</td>\n",
       "      <td>31</td>\n",
       "      <td>114</td>\n",
       "      <td>POINT (-46.629964964799 -23.51946167009796)</td>\n",
       "      <td>6.62791</td>\n",
       "    </tr>\n",
       "    <tr>\n",
       "      <th>8</th>\n",
       "      <td>4</td>\n",
       "      <td>0</td>\n",
       "      <td>2019-02-04 15:33:00</td>\n",
       "      <td>-46.5592</td>\n",
       "      <td>-23.5104</td>\n",
       "      <td>10</td>\n",
       "      <td>5</td>\n",
       "      <td>2019-02-04 06:25:00</td>\n",
       "      <td>31</td>\n",
       "      <td>41</td>\n",
       "      <td>72</td>\n",
       "      <td>POINT (-46.55923441955649 -23.51041344798837)</td>\n",
       "      <td>10.814</td>\n",
       "    </tr>\n",
       "    <tr>\n",
       "      <th>67</th>\n",
       "      <td>5</td>\n",
       "      <td>0</td>\n",
       "      <td>2019-02-04 07:35:00</td>\n",
       "      <td>-46.6933</td>\n",
       "      <td>-23.5978</td>\n",
       "      <td>10</td>\n",
       "      <td>5</td>\n",
       "      <td>2019-02-04 04:55:00</td>\n",
       "      <td>54</td>\n",
       "      <td>3</td>\n",
       "      <td>57</td>\n",
       "      <td>POINT (-46.69331008391696 -23.59779010679273)</td>\n",
       "      <td>14.1279</td>\n",
       "    </tr>\n",
       "    <tr>\n",
       "      <th>186</th>\n",
       "      <td>5</td>\n",
       "      <td>0</td>\n",
       "      <td>2019-02-04 10:20:00</td>\n",
       "      <td>-46.693</td>\n",
       "      <td>-23.6143</td>\n",
       "      <td>10</td>\n",
       "      <td>5</td>\n",
       "      <td>2019-02-04 04:54:00</td>\n",
       "      <td>45</td>\n",
       "      <td>6</td>\n",
       "      <td>51</td>\n",
       "      <td>POINT (-46.69295849999998 -23.61429099999999)</td>\n",
       "      <td>17.093</td>\n",
       "    </tr>\n",
       "    <tr>\n",
       "      <th>192</th>\n",
       "      <td>5</td>\n",
       "      <td>0</td>\n",
       "      <td>2019-02-04 09:14:00</td>\n",
       "      <td>-46.6758</td>\n",
       "      <td>-23.6271</td>\n",
       "      <td>10</td>\n",
       "      <td>5</td>\n",
       "      <td>2019-02-04 05:29:00</td>\n",
       "      <td>39</td>\n",
       "      <td>2</td>\n",
       "      <td>41</td>\n",
       "      <td>POINT (-46.67576243220336 -23.62707160169494)</td>\n",
       "      <td>19.4767</td>\n",
       "    </tr>\n",
       "  </tbody>\n",
       "</table>\n",
       "</div>"
      ],
      "text/plain": [
       "        confidence_max confidence_min             end_time location_x  \\\n",
       "cluster                                                                 \n",
       "21                   5              0  2019-02-04 11:53:00     -46.63   \n",
       "8                    4              0  2019-02-04 15:33:00   -46.5592   \n",
       "67                   5              0  2019-02-04 07:35:00   -46.6933   \n",
       "186                  5              0  2019-02-04 10:20:00    -46.693   \n",
       "192                  5              0  2019-02-04 09:14:00   -46.6758   \n",
       "\n",
       "        location_y reliability_max reliability_min           start_time  \\\n",
       "cluster                                                                   \n",
       "21        -23.5195              10               5  2019-02-04 02:36:00   \n",
       "8         -23.5104              10               5  2019-02-04 06:25:00   \n",
       "67        -23.5978              10               5  2019-02-04 04:55:00   \n",
       "186       -23.6143              10               5  2019-02-04 04:54:00   \n",
       "192       -23.6271              10               5  2019-02-04 05:29:00   \n",
       "\n",
       "        thumbs_up uuid count interactions  \\\n",
       "cluster                                     \n",
       "21             83         31          114   \n",
       "8              31         41           72   \n",
       "67             54          3           57   \n",
       "186            45          6           51   \n",
       "192            39          2           41   \n",
       "\n",
       "                                                 point   pareto  \n",
       "cluster                                                          \n",
       "21         POINT (-46.629964964799 -23.51946167009796)  6.62791  \n",
       "8        POINT (-46.55923441955649 -23.51041344798837)   10.814  \n",
       "67       POINT (-46.69331008391696 -23.59779010679273)  14.1279  \n",
       "186      POINT (-46.69295849999998 -23.61429099999999)   17.093  \n",
       "192      POINT (-46.67576243220336 -23.62707160169494)  19.4767  "
      ]
     },
     "execution_count": 193,
     "metadata": {},
     "output_type": "execute_result"
    }
   ],
   "source": [
    "clusters_pareto_sorted = pd.DataFrame(clusters.sort_values(by='pareto'))\n",
    "clusters_pareto_sorted.head()"
   ]
  },
  {
   "cell_type": "code",
   "execution_count": 194,
   "metadata": {},
   "outputs": [],
   "source": [
    "clusters_pareto_sorted.to_csv(OUTPUT_PATH/'clusters_pareto.csv')"
   ]
  },
  {
   "cell_type": "markdown",
   "metadata": {},
   "source": [
    "# Bounding-Box Macro Regiões"
   ]
  },
  {
   "cell_type": "code",
   "execution_count": 203,
   "metadata": {},
   "outputs": [],
   "source": [
    "def generate_bbox(clusters, cluster_lower_y, cluster_left_x, cluster_upper_y, cluster_right_x):\n",
    "    bbox = {}\n",
    "    bbox['lower_y'] = clusters.loc[cluster_lower_y, 'location_y']\n",
    "    bbox['left_x'] = clusters.loc[cluster_left_x, 'location_x']\n",
    "    bbox['upper_y'] = clusters.loc[cluster_upper_y, 'location_y']\n",
    "    bbox['rigth_x'] = clusters.loc[cluster_right_x, 'location_x']\n",
    "    return bbox"
   ]
  },
  {
   "cell_type": "code",
   "execution_count": 204,
   "metadata": {},
   "outputs": [],
   "source": [
    "def clusters_in_bbox(clusters, bbox):\n",
    "    lower_y = bbox['lower_y']\n",
    "    left_x = bbox['left_x']\n",
    "    upper_y = bbox['upper_y']\n",
    "    rigth_x = bbox['rigth_x']\n",
    "    return clusters[(left_x <= clusters['location_x']) & (clusters['location_x'] <= rigth_x) & (lower_y <= clusters['location_y']) & (clusters['location_y'] <= upper_y)]"
   ]
  },
  {
   "cell_type": "markdown",
   "metadata": {},
   "source": [
    "## Região 1 (zona Norte/Leste - Tiete)"
   ]
  },
  {
   "cell_type": "code",
   "execution_count": 179,
   "metadata": {},
   "outputs": [],
   "source": [
    "# lower_y = cluster 44\n",
    "# left_x = cluster 64\n",
    "# upper_y = cluster 45\n",
    "# rigth_x = cluster 166"
   ]
  },
  {
   "cell_type": "code",
   "execution_count": 205,
   "metadata": {},
   "outputs": [],
   "source": [
    "bbox1 = generate_bbox(clusters, 44,64,45,166)"
   ]
  },
  {
   "cell_type": "code",
   "execution_count": 208,
   "metadata": {},
   "outputs": [],
   "source": [
    "clusters_reg1 = clusters_in_bbox(clusters, bbox1)"
   ]
  },
  {
   "cell_type": "code",
   "execution_count": 210,
   "metadata": {},
   "outputs": [
    {
     "name": "stdout",
     "output_type": "stream",
     "text": [
      "342\n",
      "19.883720930232556\n"
     ]
    }
   ],
   "source": [
    "total_interactions_reg1 = clusters_reg1['interactions'].sum()\n",
    "print(total_interactions_reg1)\n",
    "print(total_interactions_reg1 / total_interactions *100)"
   ]
  },
  {
   "cell_type": "code",
   "execution_count": 211,
   "metadata": {},
   "outputs": [],
   "source": [
    "clusters_reg1.to_csv(OUTPUT_PATH/'clusters_reg1.csv')"
   ]
  },
  {
   "cell_type": "markdown",
   "metadata": {},
   "source": [
    "## Região 2 (zona Oeste - Pinheiros)"
   ]
  },
  {
   "cell_type": "code",
   "execution_count": null,
   "metadata": {},
   "outputs": [],
   "source": [
    "# lower_y = cluster 186\n",
    "# left_x = cluster 178\n",
    "# upper_y = cluster 171\n",
    "# rigth_x = cluster 186"
   ]
  },
  {
   "cell_type": "code",
   "execution_count": 222,
   "metadata": {},
   "outputs": [],
   "source": [
    "bbox2 = generate_bbox(clusters, 186, 178, 171, 186)"
   ]
  },
  {
   "cell_type": "code",
   "execution_count": 223,
   "metadata": {},
   "outputs": [],
   "source": [
    "clusters_reg2 = clusters_in_bbox(clusters, bbox2)"
   ]
  },
  {
   "cell_type": "code",
   "execution_count": 224,
   "metadata": {},
   "outputs": [],
   "source": [
    "total_interactions_reg2 = clusters_reg2['interactions'].sum()"
   ]
  },
  {
   "cell_type": "code",
   "execution_count": 225,
   "metadata": {},
   "outputs": [
    {
     "name": "stdout",
     "output_type": "stream",
     "text": [
      "149\n",
      "8.662790697674419\n"
     ]
    }
   ],
   "source": [
    "print(total_interactions_reg2)\n",
    "print(total_interactions_reg2 / total_interactions *100)"
   ]
  },
  {
   "cell_type": "code",
   "execution_count": 226,
   "metadata": {},
   "outputs": [],
   "source": [
    "clusters_reg2.to_csv(OUTPUT_PATH/'clusters_reg2.csv')"
   ]
  },
  {
   "cell_type": "markdown",
   "metadata": {},
   "source": [
    "## Região 3 (Av. Jornalista Roberto Marinho)"
   ]
  },
  {
   "cell_type": "code",
   "execution_count": 184,
   "metadata": {},
   "outputs": [],
   "source": [
    "# lower_y = cluster 141\n",
    "# left_x = cluster 47\n",
    "# upper_y = cluster 47\n",
    "# rigth_x = cluster 141"
   ]
  },
  {
   "cell_type": "code",
   "execution_count": 212,
   "metadata": {},
   "outputs": [],
   "source": [
    "bbox3 = generate_bbox(clusters, 141, 47, 47, 141)"
   ]
  },
  {
   "cell_type": "code",
   "execution_count": 213,
   "metadata": {},
   "outputs": [],
   "source": [
    "clusters_reg3 = clusters_in_bbox(clusters, bbox3)"
   ]
  },
  {
   "cell_type": "code",
   "execution_count": 214,
   "metadata": {},
   "outputs": [],
   "source": [
    "total_interactions_reg3 = clusters_reg3['interactions'].sum()"
   ]
  },
  {
   "cell_type": "code",
   "execution_count": 215,
   "metadata": {},
   "outputs": [
    {
     "name": "stdout",
     "output_type": "stream",
     "text": [
      "51\n",
      "2.9651162790697674\n"
     ]
    }
   ],
   "source": [
    "print(total_interactions_reg3)\n",
    "print(total_interactions_reg3 / total_interactions *100)"
   ]
  },
  {
   "cell_type": "markdown",
   "metadata": {},
   "source": [
    "## Região 4 (Rua Miguel Yunes)"
   ]
  },
  {
   "cell_type": "code",
   "execution_count": 184,
   "metadata": {},
   "outputs": [],
   "source": [
    "# lower_y = cluster 77\n",
    "# left_x = cluster 39\n",
    "# upper_y = cluster 39\n",
    "# rigth_x = cluster 77"
   ]
  },
  {
   "cell_type": "code",
   "execution_count": 227,
   "metadata": {},
   "outputs": [],
   "source": [
    "bbox4 = generate_bbox(clusters, 77, 39, 39, 77)"
   ]
  },
  {
   "cell_type": "code",
   "execution_count": 229,
   "metadata": {},
   "outputs": [],
   "source": [
    "clusters_reg4 = clusters_in_bbox(clusters, bbox4)"
   ]
  },
  {
   "cell_type": "code",
   "execution_count": 230,
   "metadata": {},
   "outputs": [],
   "source": [
    "total_interactions_reg4 = clusters_reg4['interactions'].sum()"
   ]
  },
  {
   "cell_type": "code",
   "execution_count": 231,
   "metadata": {},
   "outputs": [
    {
     "name": "stdout",
     "output_type": "stream",
     "text": [
      "87\n",
      "5.058139534883721\n"
     ]
    }
   ],
   "source": [
    "print(total_interactions_reg4)\n",
    "print(total_interactions_reg4 / total_interactions *100)"
   ]
  },
  {
   "cell_type": "code",
   "execution_count": 232,
   "metadata": {},
   "outputs": [],
   "source": [
    "clusters_reg4.to_csv(OUTPUT_PATH/'clusters_reg4.csv')"
   ]
  },
  {
   "cell_type": "markdown",
   "metadata": {},
   "source": [
    "## Região 5 (Centro)"
   ]
  },
  {
   "cell_type": "code",
   "execution_count": 184,
   "metadata": {},
   "outputs": [],
   "source": [
    "# lower_y = cluster 150\n",
    "# left_x = cluster 66\n",
    "# upper_y = cluster 66\n",
    "# rigth_x = cluster 159"
   ]
  },
  {
   "cell_type": "code",
   "execution_count": 256,
   "metadata": {},
   "outputs": [],
   "source": [
    "bbox5 = generate_bbox(clusters, 150, 66, 66, 159)"
   ]
  },
  {
   "cell_type": "code",
   "execution_count": 257,
   "metadata": {},
   "outputs": [],
   "source": [
    "clusters_reg5 = clusters_in_bbox(clusters, bbox5)"
   ]
  },
  {
   "cell_type": "code",
   "execution_count": 258,
   "metadata": {},
   "outputs": [],
   "source": [
    "total_interactions_reg5 = clusters_reg5['interactions'].sum()"
   ]
  },
  {
   "cell_type": "code",
   "execution_count": 259,
   "metadata": {},
   "outputs": [
    {
     "name": "stdout",
     "output_type": "stream",
     "text": [
      "61\n",
      "3.5465116279069764\n"
     ]
    }
   ],
   "source": [
    "print(total_interactions_reg5)\n",
    "print(total_interactions_reg5 / total_interactions *100)"
   ]
  },
  {
   "cell_type": "code",
   "execution_count": 260,
   "metadata": {},
   "outputs": [],
   "source": [
    "clusters_reg5.to_csv(OUTPUT_PATH/'clusters_reg5.csv')"
   ]
  },
  {
   "cell_type": "markdown",
   "metadata": {},
   "source": [
    "## Região 6 (Rodovia Anchieta)"
   ]
  },
  {
   "cell_type": "code",
   "execution_count": 184,
   "metadata": {},
   "outputs": [],
   "source": [
    "# lower_y = cluster 6\n",
    "# left_x = cluster 217\n",
    "# upper_y = cluster 217\n",
    "# rigth_x = cluster 3"
   ]
  },
  {
   "cell_type": "code",
   "execution_count": 237,
   "metadata": {},
   "outputs": [],
   "source": [
    "bbox6 = generate_bbox(clusters, 6, 217, 217, 3)"
   ]
  },
  {
   "cell_type": "code",
   "execution_count": 238,
   "metadata": {},
   "outputs": [],
   "source": [
    "clusters_reg6 = clusters_in_bbox(clusters, bbox6)"
   ]
  },
  {
   "cell_type": "code",
   "execution_count": 239,
   "metadata": {},
   "outputs": [],
   "source": [
    "total_interactions_reg6 = clusters_reg6['interactions'].sum()"
   ]
  },
  {
   "cell_type": "code",
   "execution_count": 240,
   "metadata": {},
   "outputs": [
    {
     "name": "stdout",
     "output_type": "stream",
     "text": [
      "34\n",
      "1.9767441860465116\n"
     ]
    }
   ],
   "source": [
    "print(total_interactions_reg6)\n",
    "print(total_interactions_reg6 / total_interactions *100)"
   ]
  },
  {
   "cell_type": "code",
   "execution_count": 241,
   "metadata": {},
   "outputs": [],
   "source": [
    "clusters_reg6.to_csv(OUTPUT_PATH/'clusters_reg6.csv')"
   ]
  },
  {
   "cell_type": "markdown",
   "metadata": {},
   "source": [
    "## Região 7 (Av. Paulo Freire + Av. Condessa Elizabeth de Robiano)"
   ]
  },
  {
   "cell_type": "code",
   "execution_count": 184,
   "metadata": {},
   "outputs": [],
   "source": [
    "# lower_y = cluster 36\n",
    "# left_x = cluster 117\n",
    "# upper_y = cluster 8\n",
    "# rigth_x = cluster 36"
   ]
  },
  {
   "cell_type": "code",
   "execution_count": 242,
   "metadata": {},
   "outputs": [],
   "source": [
    "bbox7 = generate_bbox(clusters, 36, 117, 8, 36)"
   ]
  },
  {
   "cell_type": "code",
   "execution_count": 243,
   "metadata": {},
   "outputs": [],
   "source": [
    "clusters_reg7 = clusters_in_bbox(clusters, bbox7)"
   ]
  },
  {
   "cell_type": "code",
   "execution_count": 244,
   "metadata": {},
   "outputs": [],
   "source": [
    "total_interactions_reg7 = clusters_reg7['interactions'].sum()"
   ]
  },
  {
   "cell_type": "code",
   "execution_count": 245,
   "metadata": {},
   "outputs": [
    {
     "name": "stdout",
     "output_type": "stream",
     "text": [
      "165\n",
      "9.593023255813954\n"
     ]
    }
   ],
   "source": [
    "print(total_interactions_reg7)\n",
    "print(total_interactions_reg7 / total_interactions *100)"
   ]
  },
  {
   "cell_type": "code",
   "execution_count": 246,
   "metadata": {},
   "outputs": [],
   "source": [
    "clusters_reg7.to_csv(OUTPUT_PATH/'clusters_reg7.csv')"
   ]
  },
  {
   "cell_type": "markdown",
   "metadata": {},
   "source": [
    "## Região 8 (Av. Doutor Luís Ayres)"
   ]
  },
  {
   "cell_type": "code",
   "execution_count": 184,
   "metadata": {},
   "outputs": [],
   "source": [
    "# lower_y = cluster 74\n",
    "# left_x = cluster 132\n",
    "# upper_y = cluster 132\n",
    "# rigth_x = cluster 74"
   ]
  },
  {
   "cell_type": "code",
   "execution_count": 251,
   "metadata": {},
   "outputs": [],
   "source": [
    "bbox8 = generate_bbox(clusters, 74, 132, 132, 74)"
   ]
  },
  {
   "cell_type": "code",
   "execution_count": 252,
   "metadata": {},
   "outputs": [],
   "source": [
    "clusters_reg8 = clusters_in_bbox(clusters, bbox8)"
   ]
  },
  {
   "cell_type": "code",
   "execution_count": 253,
   "metadata": {},
   "outputs": [],
   "source": [
    "total_interactions_reg8 = clusters_reg8['interactions'].sum()"
   ]
  },
  {
   "cell_type": "code",
   "execution_count": 254,
   "metadata": {},
   "outputs": [
    {
     "name": "stdout",
     "output_type": "stream",
     "text": [
      "40\n",
      "2.3255813953488373\n"
     ]
    }
   ],
   "source": [
    "print(total_interactions_reg8)\n",
    "print(total_interactions_reg8 / total_interactions *100)"
   ]
  },
  {
   "cell_type": "code",
   "execution_count": 255,
   "metadata": {},
   "outputs": [],
   "source": [
    "clusters_reg8.to_csv(OUTPUT_PATH/'clusters_reg8.csv')"
   ]
  },
  {
   "cell_type": "markdown",
   "metadata": {},
   "source": [
    "## Região 3 (Av. Jornalista Roberto Marinho)"
   ]
  },
  {
   "cell_type": "code",
   "execution_count": 184,
   "metadata": {},
   "outputs": [],
   "source": [
    "# lower_y = cluster 141\n",
    "# left_x = cluster 47\n",
    "# upper_y = cluster 47\n",
    "# rigth_x = cluster 141"
   ]
  },
  {
   "cell_type": "code",
   "execution_count": 212,
   "metadata": {},
   "outputs": [],
   "source": [
    "bbox9 = generate_bbox(clusters, 141, 47, 47, 141)"
   ]
  },
  {
   "cell_type": "code",
   "execution_count": 213,
   "metadata": {},
   "outputs": [],
   "source": [
    "clusters_reg9 = clusters_in_bbox(clusters, bbox9)"
   ]
  },
  {
   "cell_type": "code",
   "execution_count": 214,
   "metadata": {},
   "outputs": [],
   "source": [
    "total_interactions_reg9 = clusters_reg9['interactions'].sum()"
   ]
  },
  {
   "cell_type": "code",
   "execution_count": 215,
   "metadata": {},
   "outputs": [
    {
     "name": "stdout",
     "output_type": "stream",
     "text": [
      "51\n",
      "2.9651162790697674\n"
     ]
    }
   ],
   "source": [
    "print(total_interactions_reg9)\n",
    "print(total_interactions_reg9 / total_interactions *100)"
   ]
  },
  {
   "cell_type": "code",
   "execution_count": 216,
   "metadata": {},
   "outputs": [],
   "source": [
    "clusters_reg9.to_csv(OUTPUT_PATH/'clusters_reg9.csv')"
   ]
  },
  {
   "cell_type": "markdown",
   "metadata": {},
   "source": [
    "# Irreg"
   ]
  },
  {
   "cell_type": "code",
   "execution_count": 153,
   "metadata": {},
   "outputs": [],
   "source": [
    "def point_in_bbox(x,y, bbox):\n",
    "    lower_y = bbox['lower_y']\n",
    "    left_x = bbox['left_x']\n",
    "    upper_y = bbox['upper_y']\n",
    "    rigth_x = bbox['rigth_x']\n",
    "    return (left_x <= x) & (x <= rigth_x) & (lower_y <= y) & (y <= upper_y)"
   ]
  },
  {
   "cell_type": "code",
   "execution_count": 155,
   "metadata": {},
   "outputs": [],
   "source": [
    "def line_intersect_bbox(line_str, bbox):\n",
    "    line_dict = ast.literal_eval(line_str)\n",
    "    coords = line_dict['coordinates']\n",
    "    for point in coords:\n",
    "        x = point[0]\n",
    "        y = point[1]\n",
    "        if point_in_bbox(x,y, bbox):\n",
    "            return True\n",
    "    return False"
   ]
  },
  {
   "cell_type": "code",
   "execution_count": 261,
   "metadata": {},
   "outputs": [],
   "source": [
    "irreg_data = pd.read_csv(RAW_PATH/\"irregularities.csv\")"
   ]
  },
  {
   "cell_type": "code",
   "execution_count": 262,
   "metadata": {},
   "outputs": [],
   "source": [
    "irreg_data['bbox1'] = irreg_data['irre_geojson'].apply(lambda x: line_intersect_bbox(x, bbox1))"
   ]
  },
  {
   "cell_type": "code",
   "execution_count": 263,
   "metadata": {},
   "outputs": [],
   "source": [
    "irreg_data['bbox2'] = irreg_data['irre_geojson'].apply(lambda x: line_intersect_bbox(x, bbox2))"
   ]
  },
  {
   "cell_type": "code",
   "execution_count": 264,
   "metadata": {},
   "outputs": [],
   "source": [
    "irreg_data['bbox3'] = irreg_data['irre_geojson'].apply(lambda x: line_intersect_bbox(x, bbox3))"
   ]
  },
  {
   "cell_type": "code",
   "execution_count": 265,
   "metadata": {},
   "outputs": [],
   "source": [
    "irreg_data['bbox4'] = irreg_data['irre_geojson'].apply(lambda x: line_intersect_bbox(x, bbox4))"
   ]
  },
  {
   "cell_type": "code",
   "execution_count": 266,
   "metadata": {},
   "outputs": [],
   "source": [
    "irreg_data['bbox5'] = irreg_data['irre_geojson'].apply(lambda x: line_intersect_bbox(x, bbox5))"
   ]
  },
  {
   "cell_type": "code",
   "execution_count": 267,
   "metadata": {},
   "outputs": [],
   "source": [
    "irreg_data['bbox6'] = irreg_data['irre_geojson'].apply(lambda x: line_intersect_bbox(x, bbox6))"
   ]
  },
  {
   "cell_type": "code",
   "execution_count": 268,
   "metadata": {},
   "outputs": [],
   "source": [
    "irreg_data['bbox7'] = irreg_data['irre_geojson'].apply(lambda x: line_intersect_bbox(x, bbox7))"
   ]
  },
  {
   "cell_type": "code",
   "execution_count": 269,
   "metadata": {},
   "outputs": [],
   "source": [
    "irreg_data['bbox8'] = irreg_data['irre_geojson'].apply(lambda x: line_intersect_bbox(x, bbox8))"
   ]
  },
  {
   "cell_type": "code",
   "execution_count": 277,
   "metadata": {},
   "outputs": [
    {
     "data": {
      "text/html": [
       "<div>\n",
       "<style scoped>\n",
       "    .dataframe tbody tr th:only-of-type {\n",
       "        vertical-align: middle;\n",
       "    }\n",
       "\n",
       "    .dataframe tbody tr th {\n",
       "        vertical-align: top;\n",
       "    }\n",
       "\n",
       "    .dataframe thead th {\n",
       "        text-align: right;\n",
       "    }\n",
       "</style>\n",
       "<table border=\"1\" class=\"dataframe\">\n",
       "  <thead>\n",
       "    <tr style=\"text-align: right;\">\n",
       "      <th></th>\n",
       "      <th>id</th>\n",
       "      <th>min_hour</th>\n",
       "      <th>max_hour</th>\n",
       "      <th>street</th>\n",
       "      <th>length</th>\n",
       "      <th>nthumbsup</th>\n",
       "      <th>driverscount</th>\n",
       "      <th>irre_geojson</th>\n",
       "      <th>bbox1</th>\n",
       "      <th>bbox2</th>\n",
       "      <th>bbox3</th>\n",
       "      <th>bbox4</th>\n",
       "      <th>bbox5</th>\n",
       "      <th>bbox6</th>\n",
       "      <th>bbox7</th>\n",
       "      <th>bbox8</th>\n",
       "    </tr>\n",
       "  </thead>\n",
       "  <tbody>\n",
       "    <tr>\n",
       "      <th>0</th>\n",
       "      <td>162402419</td>\n",
       "      <td>11</td>\n",
       "      <td>11</td>\n",
       "      <td>Marg. Pinheiros</td>\n",
       "      <td>5899</td>\n",
       "      <td>59</td>\n",
       "      <td>3050</td>\n",
       "      <td>{\"type\":\"LineString\", \"coordinates\":[[-46.7272...</td>\n",
       "      <td>False</td>\n",
       "      <td>False</td>\n",
       "      <td>False</td>\n",
       "      <td>False</td>\n",
       "      <td>False</td>\n",
       "      <td>False</td>\n",
       "      <td>False</td>\n",
       "      <td>False</td>\n",
       "    </tr>\n",
       "    <tr>\n",
       "      <th>1</th>\n",
       "      <td>162401047</td>\n",
       "      <td>8</td>\n",
       "      <td>8</td>\n",
       "      <td>SP-348 S Rod. dos Bandeirantes</td>\n",
       "      <td>3846</td>\n",
       "      <td>57</td>\n",
       "      <td>1007</td>\n",
       "      <td>{\"type\":\"LineString\", \"coordinates\":[[-46.7406...</td>\n",
       "      <td>False</td>\n",
       "      <td>False</td>\n",
       "      <td>False</td>\n",
       "      <td>False</td>\n",
       "      <td>False</td>\n",
       "      <td>False</td>\n",
       "      <td>False</td>\n",
       "      <td>False</td>\n",
       "    </tr>\n",
       "    <tr>\n",
       "      <th>2</th>\n",
       "      <td>162406068</td>\n",
       "      <td>17</td>\n",
       "      <td>17</td>\n",
       "      <td>SP-280 O Rod. Pres. Castello Branco</td>\n",
       "      <td>6678</td>\n",
       "      <td>45</td>\n",
       "      <td>343</td>\n",
       "      <td>{\"type\":\"LineString\", \"coordinates\":[[-46.7995...</td>\n",
       "      <td>False</td>\n",
       "      <td>False</td>\n",
       "      <td>False</td>\n",
       "      <td>False</td>\n",
       "      <td>False</td>\n",
       "      <td>False</td>\n",
       "      <td>False</td>\n",
       "      <td>False</td>\n",
       "    </tr>\n",
       "    <tr>\n",
       "      <th>3</th>\n",
       "      <td>162406236</td>\n",
       "      <td>18</td>\n",
       "      <td>18</td>\n",
       "      <td>Pista Expressa Marg. Tietê</td>\n",
       "      <td>7855</td>\n",
       "      <td>39</td>\n",
       "      <td>1825</td>\n",
       "      <td>{\"type\":\"LineString\", \"coordinates\":[[-46.6325...</td>\n",
       "      <td>True</td>\n",
       "      <td>False</td>\n",
       "      <td>False</td>\n",
       "      <td>False</td>\n",
       "      <td>False</td>\n",
       "      <td>False</td>\n",
       "      <td>True</td>\n",
       "      <td>False</td>\n",
       "    </tr>\n",
       "    <tr>\n",
       "      <th>4</th>\n",
       "      <td>162400697</td>\n",
       "      <td>8</td>\n",
       "      <td>8</td>\n",
       "      <td>Av. Morvan Dias de Figueiredo</td>\n",
       "      <td>4354</td>\n",
       "      <td>34</td>\n",
       "      <td>2167</td>\n",
       "      <td>{\"type\":\"LineString\", \"coordinates\":[[-46.5910...</td>\n",
       "      <td>True</td>\n",
       "      <td>False</td>\n",
       "      <td>False</td>\n",
       "      <td>False</td>\n",
       "      <td>False</td>\n",
       "      <td>False</td>\n",
       "      <td>False</td>\n",
       "      <td>False</td>\n",
       "    </tr>\n",
       "  </tbody>\n",
       "</table>\n",
       "</div>"
      ],
      "text/plain": [
       "          id  min_hour  max_hour                               street  length  \\\n",
       "0  162402419        11        11                      Marg. Pinheiros    5899   \n",
       "1  162401047         8         8       SP-348 S Rod. dos Bandeirantes    3846   \n",
       "2  162406068        17        17  SP-280 O Rod. Pres. Castello Branco    6678   \n",
       "3  162406236        18        18           Pista Expressa Marg. Tietê    7855   \n",
       "4  162400697         8         8        Av. Morvan Dias de Figueiredo    4354   \n",
       "\n",
       "   nthumbsup  driverscount                                       irre_geojson  \\\n",
       "0         59          3050  {\"type\":\"LineString\", \"coordinates\":[[-46.7272...   \n",
       "1         57          1007  {\"type\":\"LineString\", \"coordinates\":[[-46.7406...   \n",
       "2         45           343  {\"type\":\"LineString\", \"coordinates\":[[-46.7995...   \n",
       "3         39          1825  {\"type\":\"LineString\", \"coordinates\":[[-46.6325...   \n",
       "4         34          2167  {\"type\":\"LineString\", \"coordinates\":[[-46.5910...   \n",
       "\n",
       "   bbox1  bbox2  bbox3  bbox4  bbox5  bbox6  bbox7  bbox8  \n",
       "0  False  False  False  False  False  False  False  False  \n",
       "1  False  False  False  False  False  False  False  False  \n",
       "2  False  False  False  False  False  False  False  False  \n",
       "3   True  False  False  False  False  False   True  False  \n",
       "4   True  False  False  False  False  False  False  False  "
      ]
     },
     "execution_count": 277,
     "metadata": {},
     "output_type": "execute_result"
    }
   ],
   "source": [
    "irreg_data.head()"
   ]
  },
  {
   "cell_type": "code",
   "execution_count": 319,
   "metadata": {},
   "outputs": [],
   "source": [
    "irreg_data.to_csv(OUTPUT_PATH/'irreg_jams_by_region.csv')"
   ]
  },
  {
   "cell_type": "code",
   "execution_count": 315,
   "metadata": {},
   "outputs": [],
   "source": [
    "jams = {}\n",
    "for i in range(1,9):\n",
    "    jams[f'region{i}'] = {}\n",
    "    jam_reg = irreg_data.loc[irreg_data[f'bbox{i}'], 'min_hour':'driverscount']\n",
    "    jam_hour = {h: jam_reg.loc[(jam_reg['min_hour'] <= h) & (h <= jam_reg['max_hour']), 'length'].sum() for h in range(-2, 24)}\n",
    "    jams[f'region{i}']['hour_max_jam'] = max(jam_hour.items(), key=operator.itemgetter(1))[0]\n",
    "    jams[f'region{i}']['max_jam'] = max(jam_hour.items(), key=operator.itemgetter(1))[1]"
   ]
  },
  {
   "cell_type": "code",
   "execution_count": null,
   "metadata": {},
   "outputs": [],
   "source": [
    "for i in range(1,9):\n",
    "    print(f'total_interactions_reg{i}')"
   ]
  },
  {
   "cell_type": "code",
   "execution_count": 316,
   "metadata": {},
   "outputs": [
    {
     "data": {
      "text/plain": [
       "{'region1': {'hour_max_jam': 8, 'max_jam': 44732},\n",
       " 'region2': {'hour_max_jam': 9, 'max_jam': 20856},\n",
       " 'region3': {'hour_max_jam': 9, 'max_jam': 6819},\n",
       " 'region4': {'hour_max_jam': 7, 'max_jam': 613},\n",
       " 'region5': {'hour_max_jam': 10, 'max_jam': 4106},\n",
       " 'region6': {'hour_max_jam': 8, 'max_jam': 4229},\n",
       " 'region7': {'hour_max_jam': 8, 'max_jam': 25341},\n",
       " 'region8': {'hour_max_jam': -2, 'max_jam': 0}}"
      ]
     },
     "execution_count": 316,
     "metadata": {},
     "output_type": "execute_result"
    }
   ],
   "source": [
    "jams"
   ]
  },
  {
   "cell_type": "code",
   "execution_count": 324,
   "metadata": {},
   "outputs": [],
   "source": [
    "jam_reg = irreg_data.loc[:, 'min_hour':'driverscount']\n",
    "jam_total = {h: jam_reg.loc[(jam_reg['min_hour'] <= h) & (h <= jam_reg['max_hour']), 'length'].sum() for h in range(-2, 24)}"
   ]
  },
  {
   "cell_type": "code",
   "execution_count": 328,
   "metadata": {},
   "outputs": [
    {
     "data": {
      "text/plain": [
       "{-2: 11190,\n",
       " -1: 2903,\n",
       " 0: 938,\n",
       " 1: 565,\n",
       " 2: 1130,\n",
       " 3: 12443,\n",
       " 4: 3019,\n",
       " 5: 13682,\n",
       " 6: 150774,\n",
       " 7: 250094,\n",
       " 8: 750816,\n",
       " 9: 458408,\n",
       " 10: 378524,\n",
       " 11: 202928,\n",
       " 12: 106356,\n",
       " 13: 119408,\n",
       " 14: 68936,\n",
       " 15: 49357,\n",
       " 16: 49090,\n",
       " 17: 110964,\n",
       " 18: 290684,\n",
       " 19: 137046,\n",
       " 20: 23027,\n",
       " 21: 14077,\n",
       " 22: 0,\n",
       " 23: 0}"
      ]
     },
     "execution_count": 328,
     "metadata": {},
     "output_type": "execute_result"
    }
   ],
   "source": [
    "jam_total"
   ]
  },
  {
   "cell_type": "code",
   "execution_count": 329,
   "metadata": {},
   "outputs": [
    {
     "name": "stdout",
     "output_type": "stream",
     "text": [
      "8\n",
      "750816\n"
     ]
    }
   ],
   "source": [
    "print(max(jam_total.items(), key=operator.itemgetter(1))[0])\n",
    "print(max(jam_total.items(), key=operator.itemgetter(1))[1])"
   ]
  },
  {
   "cell_type": "code",
   "execution_count": 350,
   "metadata": {},
   "outputs": [
    {
     "data": {
      "text/html": [
       "<div>\n",
       "<style scoped>\n",
       "    .dataframe tbody tr th:only-of-type {\n",
       "        vertical-align: middle;\n",
       "    }\n",
       "\n",
       "    .dataframe tbody tr th {\n",
       "        vertical-align: top;\n",
       "    }\n",
       "\n",
       "    .dataframe thead th {\n",
       "        text-align: right;\n",
       "    }\n",
       "</style>\n",
       "<table border=\"1\" class=\"dataframe\">\n",
       "  <thead>\n",
       "    <tr style=\"text-align: right;\">\n",
       "      <th></th>\n",
       "      <th>id</th>\n",
       "      <th>min_hour</th>\n",
       "      <th>max_hour</th>\n",
       "      <th>street</th>\n",
       "      <th>length</th>\n",
       "      <th>nthumbsup</th>\n",
       "      <th>driverscount</th>\n",
       "      <th>irre_geojson</th>\n",
       "      <th>bbox1</th>\n",
       "      <th>bbox2</th>\n",
       "      <th>bbox3</th>\n",
       "      <th>bbox4</th>\n",
       "      <th>bbox5</th>\n",
       "      <th>bbox6</th>\n",
       "      <th>bbox7</th>\n",
       "      <th>bbox8</th>\n",
       "    </tr>\n",
       "  </thead>\n",
       "  <tbody>\n",
       "    <tr>\n",
       "      <th>127</th>\n",
       "      <td>162400346</td>\n",
       "      <td>6</td>\n",
       "      <td>6</td>\n",
       "      <td>BR-116 Rod. Pres. Dutra</td>\n",
       "      <td>17413</td>\n",
       "      <td>5</td>\n",
       "      <td>644</td>\n",
       "      <td>{\"type\":\"LineString\", \"coordinates\":[[-46.3718...</td>\n",
       "      <td>False</td>\n",
       "      <td>False</td>\n",
       "      <td>False</td>\n",
       "      <td>False</td>\n",
       "      <td>False</td>\n",
       "      <td>False</td>\n",
       "      <td>False</td>\n",
       "      <td>False</td>\n",
       "    </tr>\n",
       "    <tr>\n",
       "      <th>21</th>\n",
       "      <td>162403443</td>\n",
       "      <td>11</td>\n",
       "      <td>11</td>\n",
       "      <td>Pista Expressa Marg. Tietê</td>\n",
       "      <td>16961</td>\n",
       "      <td>17</td>\n",
       "      <td>2067</td>\n",
       "      <td>{\"type\":\"LineString\", \"coordinates\":[[-46.7365...</td>\n",
       "      <td>True</td>\n",
       "      <td>False</td>\n",
       "      <td>False</td>\n",
       "      <td>False</td>\n",
       "      <td>False</td>\n",
       "      <td>False</td>\n",
       "      <td>False</td>\n",
       "      <td>False</td>\n",
       "    </tr>\n",
       "    <tr>\n",
       "      <th>7</th>\n",
       "      <td>162421411</td>\n",
       "      <td>8</td>\n",
       "      <td>8</td>\n",
       "      <td>SP-160 N Rod. dos Imigrantes</td>\n",
       "      <td>15385</td>\n",
       "      <td>30</td>\n",
       "      <td>2417</td>\n",
       "      <td>{\"type\":\"LineString\", \"coordinates\":[[-46.5955...</td>\n",
       "      <td>False</td>\n",
       "      <td>False</td>\n",
       "      <td>False</td>\n",
       "      <td>False</td>\n",
       "      <td>False</td>\n",
       "      <td>False</td>\n",
       "      <td>False</td>\n",
       "      <td>False</td>\n",
       "    </tr>\n",
       "    <tr>\n",
       "      <th>365</th>\n",
       "      <td>162400524</td>\n",
       "      <td>7</td>\n",
       "      <td>8</td>\n",
       "      <td>BR-116 Rod. Pres. Dutra</td>\n",
       "      <td>13409</td>\n",
       "      <td>1</td>\n",
       "      <td>223</td>\n",
       "      <td>{\"type\":\"LineString\", \"coordinates\":[[-46.5284...</td>\n",
       "      <td>False</td>\n",
       "      <td>False</td>\n",
       "      <td>False</td>\n",
       "      <td>False</td>\n",
       "      <td>False</td>\n",
       "      <td>False</td>\n",
       "      <td>False</td>\n",
       "      <td>False</td>\n",
       "    </tr>\n",
       "    <tr>\n",
       "      <th>24</th>\n",
       "      <td>162404004</td>\n",
       "      <td>12</td>\n",
       "      <td>12</td>\n",
       "      <td>Pista Expressa Marg. Tietê</td>\n",
       "      <td>13190</td>\n",
       "      <td>14</td>\n",
       "      <td>2074</td>\n",
       "      <td>{\"type\":\"LineString\", \"coordinates\":[[-46.6810...</td>\n",
       "      <td>True</td>\n",
       "      <td>False</td>\n",
       "      <td>False</td>\n",
       "      <td>False</td>\n",
       "      <td>False</td>\n",
       "      <td>False</td>\n",
       "      <td>True</td>\n",
       "      <td>False</td>\n",
       "    </tr>\n",
       "    <tr>\n",
       "      <th>5</th>\n",
       "      <td>162420951</td>\n",
       "      <td>8</td>\n",
       "      <td>8</td>\n",
       "      <td>SP-021 Rodoanel Mário Covas</td>\n",
       "      <td>12970</td>\n",
       "      <td>31</td>\n",
       "      <td>1458</td>\n",
       "      <td>{\"type\":\"LineString\", \"coordinates\":[[-46.8296...</td>\n",
       "      <td>False</td>\n",
       "      <td>False</td>\n",
       "      <td>False</td>\n",
       "      <td>False</td>\n",
       "      <td>False</td>\n",
       "      <td>False</td>\n",
       "      <td>False</td>\n",
       "      <td>False</td>\n",
       "    </tr>\n",
       "    <tr>\n",
       "      <th>134</th>\n",
       "      <td>162401964</td>\n",
       "      <td>9</td>\n",
       "      <td>9</td>\n",
       "      <td>SP-070 O Rod. Ayrton Senna da Silva</td>\n",
       "      <td>12799</td>\n",
       "      <td>5</td>\n",
       "      <td>458</td>\n",
       "      <td>{\"type\":\"LineString\", \"coordinates\":[[-46.4440...</td>\n",
       "      <td>False</td>\n",
       "      <td>False</td>\n",
       "      <td>False</td>\n",
       "      <td>False</td>\n",
       "      <td>False</td>\n",
       "      <td>False</td>\n",
       "      <td>False</td>\n",
       "      <td>False</td>\n",
       "    </tr>\n",
       "    <tr>\n",
       "      <th>48</th>\n",
       "      <td>162402177</td>\n",
       "      <td>11</td>\n",
       "      <td>11</td>\n",
       "      <td>SP-070 O Rod. Ayrton Senna da Silva</td>\n",
       "      <td>11983</td>\n",
       "      <td>10</td>\n",
       "      <td>745</td>\n",
       "      <td>{\"type\":\"LineString\", \"coordinates\":[[-46.4440...</td>\n",
       "      <td>False</td>\n",
       "      <td>False</td>\n",
       "      <td>False</td>\n",
       "      <td>False</td>\n",
       "      <td>False</td>\n",
       "      <td>False</td>\n",
       "      <td>False</td>\n",
       "      <td>False</td>\n",
       "    </tr>\n",
       "    <tr>\n",
       "      <th>8</th>\n",
       "      <td>162400784</td>\n",
       "      <td>8</td>\n",
       "      <td>8</td>\n",
       "      <td>SP-160 N Rod. dos Imigrantes</td>\n",
       "      <td>11867</td>\n",
       "      <td>29</td>\n",
       "      <td>2011</td>\n",
       "      <td>{\"type\":\"LineString\", \"coordinates\":[[-46.5955...</td>\n",
       "      <td>False</td>\n",
       "      <td>False</td>\n",
       "      <td>False</td>\n",
       "      <td>False</td>\n",
       "      <td>False</td>\n",
       "      <td>False</td>\n",
       "      <td>False</td>\n",
       "      <td>False</td>\n",
       "    </tr>\n",
       "    <tr>\n",
       "      <th>67</th>\n",
       "      <td>162401365</td>\n",
       "      <td>8</td>\n",
       "      <td>8</td>\n",
       "      <td>SP-270 L Rod. Raposo Tavares</td>\n",
       "      <td>11586</td>\n",
       "      <td>8</td>\n",
       "      <td>1078</td>\n",
       "      <td>{\"type\":\"LineString\", \"coordinates\":[[-46.9108...</td>\n",
       "      <td>False</td>\n",
       "      <td>False</td>\n",
       "      <td>False</td>\n",
       "      <td>False</td>\n",
       "      <td>False</td>\n",
       "      <td>False</td>\n",
       "      <td>False</td>\n",
       "      <td>False</td>\n",
       "    </tr>\n",
       "    <tr>\n",
       "      <th>125</th>\n",
       "      <td>162402633</td>\n",
       "      <td>10</td>\n",
       "      <td>10</td>\n",
       "      <td>Pista Expressa Marg. Tietê</td>\n",
       "      <td>11296</td>\n",
       "      <td>5</td>\n",
       "      <td>1243</td>\n",
       "      <td>{\"type\":\"LineString\", \"coordinates\":[[-46.5564...</td>\n",
       "      <td>True</td>\n",
       "      <td>False</td>\n",
       "      <td>False</td>\n",
       "      <td>False</td>\n",
       "      <td>False</td>\n",
       "      <td>False</td>\n",
       "      <td>True</td>\n",
       "      <td>False</td>\n",
       "    </tr>\n",
       "    <tr>\n",
       "      <th>19</th>\n",
       "      <td>162400993</td>\n",
       "      <td>8</td>\n",
       "      <td>8</td>\n",
       "      <td>SP-070 O Rod. Ayrton Senna da Silva</td>\n",
       "      <td>10810</td>\n",
       "      <td>18</td>\n",
       "      <td>715</td>\n",
       "      <td>{\"type\":\"LineString\", \"coordinates\":[[-46.4631...</td>\n",
       "      <td>False</td>\n",
       "      <td>False</td>\n",
       "      <td>False</td>\n",
       "      <td>False</td>\n",
       "      <td>False</td>\n",
       "      <td>False</td>\n",
       "      <td>False</td>\n",
       "      <td>False</td>\n",
       "    </tr>\n",
       "    <tr>\n",
       "      <th>6</th>\n",
       "      <td>162420350</td>\n",
       "      <td>8</td>\n",
       "      <td>8</td>\n",
       "      <td>BR-116 Rod. Pres. Dutra - Pista Lateral</td>\n",
       "      <td>10771</td>\n",
       "      <td>31</td>\n",
       "      <td>1729</td>\n",
       "      <td>{\"type\":\"LineString\", \"coordinates\":[[-46.4730...</td>\n",
       "      <td>False</td>\n",
       "      <td>False</td>\n",
       "      <td>False</td>\n",
       "      <td>False</td>\n",
       "      <td>False</td>\n",
       "      <td>False</td>\n",
       "      <td>False</td>\n",
       "      <td>False</td>\n",
       "    </tr>\n",
       "    <tr>\n",
       "      <th>62</th>\n",
       "      <td>162401473</td>\n",
       "      <td>8</td>\n",
       "      <td>8</td>\n",
       "      <td>Pista Expressa Marg. Tietê</td>\n",
       "      <td>9195</td>\n",
       "      <td>8</td>\n",
       "      <td>330</td>\n",
       "      <td>{\"type\":\"LineString\", \"coordinates\":[[-46.5564...</td>\n",
       "      <td>True</td>\n",
       "      <td>False</td>\n",
       "      <td>False</td>\n",
       "      <td>False</td>\n",
       "      <td>False</td>\n",
       "      <td>False</td>\n",
       "      <td>True</td>\n",
       "      <td>False</td>\n",
       "    </tr>\n",
       "    <tr>\n",
       "      <th>214</th>\n",
       "      <td>162422430</td>\n",
       "      <td>10</td>\n",
       "      <td>10</td>\n",
       "      <td>BR-116 Rod. Pres. Dutra</td>\n",
       "      <td>8838</td>\n",
       "      <td>3</td>\n",
       "      <td>114</td>\n",
       "      <td>{\"type\":\"LineString\", \"coordinates\":[[-46.5282...</td>\n",
       "      <td>False</td>\n",
       "      <td>False</td>\n",
       "      <td>False</td>\n",
       "      <td>False</td>\n",
       "      <td>False</td>\n",
       "      <td>False</td>\n",
       "      <td>False</td>\n",
       "      <td>False</td>\n",
       "    </tr>\n",
       "    <tr>\n",
       "      <th>176</th>\n",
       "      <td>162400817</td>\n",
       "      <td>8</td>\n",
       "      <td>8</td>\n",
       "      <td>BR-116 Rod. Pres. Dutra</td>\n",
       "      <td>8838</td>\n",
       "      <td>3</td>\n",
       "      <td>343</td>\n",
       "      <td>{\"type\":\"LineString\", \"coordinates\":[[-46.5282...</td>\n",
       "      <td>False</td>\n",
       "      <td>False</td>\n",
       "      <td>False</td>\n",
       "      <td>False</td>\n",
       "      <td>False</td>\n",
       "      <td>False</td>\n",
       "      <td>False</td>\n",
       "      <td>False</td>\n",
       "    </tr>\n",
       "    <tr>\n",
       "      <th>57</th>\n",
       "      <td>162401257</td>\n",
       "      <td>8</td>\n",
       "      <td>8</td>\n",
       "      <td>Pista Expressa Marg. Tietê</td>\n",
       "      <td>8776</td>\n",
       "      <td>9</td>\n",
       "      <td>335</td>\n",
       "      <td>{\"type\":\"LineString\", \"coordinates\":[[-46.5564...</td>\n",
       "      <td>True</td>\n",
       "      <td>False</td>\n",
       "      <td>False</td>\n",
       "      <td>False</td>\n",
       "      <td>False</td>\n",
       "      <td>False</td>\n",
       "      <td>True</td>\n",
       "      <td>False</td>\n",
       "    </tr>\n",
       "    <tr>\n",
       "      <th>28</th>\n",
       "      <td>162400402</td>\n",
       "      <td>6</td>\n",
       "      <td>6</td>\n",
       "      <td>Pista Expressa Marg. Tietê</td>\n",
       "      <td>8776</td>\n",
       "      <td>14</td>\n",
       "      <td>1478</td>\n",
       "      <td>{\"type\":\"LineString\", \"coordinates\":[[-46.5564...</td>\n",
       "      <td>True</td>\n",
       "      <td>False</td>\n",
       "      <td>False</td>\n",
       "      <td>False</td>\n",
       "      <td>False</td>\n",
       "      <td>False</td>\n",
       "      <td>True</td>\n",
       "      <td>False</td>\n",
       "    </tr>\n",
       "    <tr>\n",
       "      <th>583</th>\n",
       "      <td>162420080</td>\n",
       "      <td>3</td>\n",
       "      <td>3</td>\n",
       "      <td>SP-160 N Rod. dos Imigrantes</td>\n",
       "      <td>8339</td>\n",
       "      <td>0</td>\n",
       "      <td>15</td>\n",
       "      <td>{\"type\":\"LineString\", \"coordinates\":[[-46.5955...</td>\n",
       "      <td>False</td>\n",
       "      <td>False</td>\n",
       "      <td>False</td>\n",
       "      <td>False</td>\n",
       "      <td>False</td>\n",
       "      <td>False</td>\n",
       "      <td>False</td>\n",
       "      <td>False</td>\n",
       "    </tr>\n",
       "    <tr>\n",
       "      <th>3</th>\n",
       "      <td>162406236</td>\n",
       "      <td>18</td>\n",
       "      <td>18</td>\n",
       "      <td>Pista Expressa Marg. Tietê</td>\n",
       "      <td>7855</td>\n",
       "      <td>39</td>\n",
       "      <td>1825</td>\n",
       "      <td>{\"type\":\"LineString\", \"coordinates\":[[-46.6325...</td>\n",
       "      <td>True</td>\n",
       "      <td>False</td>\n",
       "      <td>False</td>\n",
       "      <td>False</td>\n",
       "      <td>False</td>\n",
       "      <td>False</td>\n",
       "      <td>True</td>\n",
       "      <td>False</td>\n",
       "    </tr>\n",
       "    <tr>\n",
       "      <th>429</th>\n",
       "      <td>162401809</td>\n",
       "      <td>9</td>\n",
       "      <td>10</td>\n",
       "      <td>BR-116 Rod. Pres. Dutra</td>\n",
       "      <td>7508</td>\n",
       "      <td>1</td>\n",
       "      <td>160</td>\n",
       "      <td>{\"type\":\"LineString\", \"coordinates\":[[-46.4728...</td>\n",
       "      <td>False</td>\n",
       "      <td>False</td>\n",
       "      <td>False</td>\n",
       "      <td>False</td>\n",
       "      <td>False</td>\n",
       "      <td>False</td>\n",
       "      <td>False</td>\n",
       "      <td>False</td>\n",
       "    </tr>\n",
       "    <tr>\n",
       "      <th>43</th>\n",
       "      <td>162402305</td>\n",
       "      <td>10</td>\n",
       "      <td>10</td>\n",
       "      <td>Av. Morvan Dias de Figueiredo</td>\n",
       "      <td>7508</td>\n",
       "      <td>10</td>\n",
       "      <td>2155</td>\n",
       "      <td>{\"type\":\"LineString\", \"coordinates\":[[-46.5564...</td>\n",
       "      <td>True</td>\n",
       "      <td>False</td>\n",
       "      <td>False</td>\n",
       "      <td>False</td>\n",
       "      <td>False</td>\n",
       "      <td>False</td>\n",
       "      <td>True</td>\n",
       "      <td>False</td>\n",
       "    </tr>\n",
       "    <tr>\n",
       "      <th>13</th>\n",
       "      <td>162400779</td>\n",
       "      <td>9</td>\n",
       "      <td>9</td>\n",
       "      <td>Av. das Nações Unidas</td>\n",
       "      <td>7415</td>\n",
       "      <td>21</td>\n",
       "      <td>3314</td>\n",
       "      <td>{\"type\":\"LineString\", \"coordinates\":[[-46.7251...</td>\n",
       "      <td>False</td>\n",
       "      <td>True</td>\n",
       "      <td>False</td>\n",
       "      <td>False</td>\n",
       "      <td>False</td>\n",
       "      <td>False</td>\n",
       "      <td>False</td>\n",
       "      <td>False</td>\n",
       "    </tr>\n",
       "    <tr>\n",
       "      <th>123</th>\n",
       "      <td>162421860</td>\n",
       "      <td>9</td>\n",
       "      <td>9</td>\n",
       "      <td>SP-070 O Rod. Ayrton Senna da Silva</td>\n",
       "      <td>7393</td>\n",
       "      <td>5</td>\n",
       "      <td>431</td>\n",
       "      <td>{\"type\":\"LineString\", \"coordinates\":[[-46.4939...</td>\n",
       "      <td>False</td>\n",
       "      <td>False</td>\n",
       "      <td>False</td>\n",
       "      <td>False</td>\n",
       "      <td>False</td>\n",
       "      <td>False</td>\n",
       "      <td>False</td>\n",
       "      <td>False</td>\n",
       "    </tr>\n",
       "    <tr>\n",
       "      <th>58</th>\n",
       "      <td>162400243</td>\n",
       "      <td>6</td>\n",
       "      <td>6</td>\n",
       "      <td>SP-150 N V. Anchieta</td>\n",
       "      <td>6995</td>\n",
       "      <td>9</td>\n",
       "      <td>414</td>\n",
       "      <td>{\"type\":\"LineString\", \"coordinates\":[[-46.5613...</td>\n",
       "      <td>False</td>\n",
       "      <td>False</td>\n",
       "      <td>False</td>\n",
       "      <td>False</td>\n",
       "      <td>False</td>\n",
       "      <td>False</td>\n",
       "      <td>False</td>\n",
       "      <td>False</td>\n",
       "    </tr>\n",
       "    <tr>\n",
       "      <th>33</th>\n",
       "      <td>162400824</td>\n",
       "      <td>8</td>\n",
       "      <td>8</td>\n",
       "      <td>BR-381 S Rod. Fernão Dias</td>\n",
       "      <td>6853</td>\n",
       "      <td>12</td>\n",
       "      <td>397</td>\n",
       "      <td>{\"type\":\"LineString\", \"coordinates\":[[-46.5786...</td>\n",
       "      <td>False</td>\n",
       "      <td>False</td>\n",
       "      <td>False</td>\n",
       "      <td>False</td>\n",
       "      <td>False</td>\n",
       "      <td>False</td>\n",
       "      <td>False</td>\n",
       "      <td>False</td>\n",
       "    </tr>\n",
       "    <tr>\n",
       "      <th>12</th>\n",
       "      <td>162407058</td>\n",
       "      <td>18</td>\n",
       "      <td>18</td>\n",
       "      <td>SP-270 O Rod. Raposo Tavares</td>\n",
       "      <td>6806</td>\n",
       "      <td>22</td>\n",
       "      <td>313</td>\n",
       "      <td>{\"type\":\"LineString\", \"coordinates\":[[-46.8533...</td>\n",
       "      <td>False</td>\n",
       "      <td>False</td>\n",
       "      <td>False</td>\n",
       "      <td>False</td>\n",
       "      <td>False</td>\n",
       "      <td>False</td>\n",
       "      <td>False</td>\n",
       "      <td>False</td>\n",
       "    </tr>\n",
       "    <tr>\n",
       "      <th>2</th>\n",
       "      <td>162406068</td>\n",
       "      <td>17</td>\n",
       "      <td>17</td>\n",
       "      <td>SP-280 O Rod. Pres. Castello Branco</td>\n",
       "      <td>6678</td>\n",
       "      <td>45</td>\n",
       "      <td>343</td>\n",
       "      <td>{\"type\":\"LineString\", \"coordinates\":[[-46.7995...</td>\n",
       "      <td>False</td>\n",
       "      <td>False</td>\n",
       "      <td>False</td>\n",
       "      <td>False</td>\n",
       "      <td>False</td>\n",
       "      <td>False</td>\n",
       "      <td>False</td>\n",
       "      <td>False</td>\n",
       "    </tr>\n",
       "    <tr>\n",
       "      <th>44</th>\n",
       "      <td>162400438</td>\n",
       "      <td>8</td>\n",
       "      <td>12</td>\n",
       "      <td>BR-116 Rod. Pres. Dutra - Pista Lateral</td>\n",
       "      <td>6616</td>\n",
       "      <td>10</td>\n",
       "      <td>565</td>\n",
       "      <td>{\"type\":\"LineString\", \"coordinates\":[[-46.5289...</td>\n",
       "      <td>False</td>\n",
       "      <td>False</td>\n",
       "      <td>False</td>\n",
       "      <td>False</td>\n",
       "      <td>False</td>\n",
       "      <td>False</td>\n",
       "      <td>False</td>\n",
       "      <td>False</td>\n",
       "    </tr>\n",
       "    <tr>\n",
       "      <th>10</th>\n",
       "      <td>162401656</td>\n",
       "      <td>9</td>\n",
       "      <td>9</td>\n",
       "      <td>Marg. Pinheiros</td>\n",
       "      <td>6586</td>\n",
       "      <td>24</td>\n",
       "      <td>3332</td>\n",
       "      <td>{\"type\":\"LineString\", \"coordinates\":[[-46.7330...</td>\n",
       "      <td>False</td>\n",
       "      <td>False</td>\n",
       "      <td>False</td>\n",
       "      <td>False</td>\n",
       "      <td>False</td>\n",
       "      <td>False</td>\n",
       "      <td>False</td>\n",
       "      <td>False</td>\n",
       "    </tr>\n",
       "    <tr>\n",
       "      <th>...</th>\n",
       "      <td>...</td>\n",
       "      <td>...</td>\n",
       "      <td>...</td>\n",
       "      <td>...</td>\n",
       "      <td>...</td>\n",
       "      <td>...</td>\n",
       "      <td>...</td>\n",
       "      <td>...</td>\n",
       "      <td>...</td>\n",
       "      <td>...</td>\n",
       "      <td>...</td>\n",
       "      <td>...</td>\n",
       "      <td>...</td>\n",
       "      <td>...</td>\n",
       "      <td>...</td>\n",
       "      <td>...</td>\n",
       "    </tr>\n",
       "    <tr>\n",
       "      <th>1382</th>\n",
       "      <td>162405648</td>\n",
       "      <td>15</td>\n",
       "      <td>15</td>\n",
       "      <td>Estr, Pirajussara Valo Velho</td>\n",
       "      <td>513</td>\n",
       "      <td>0</td>\n",
       "      <td>26</td>\n",
       "      <td>{\"type\":\"LineString\", \"coordinates\":[[-46.7837...</td>\n",
       "      <td>False</td>\n",
       "      <td>False</td>\n",
       "      <td>False</td>\n",
       "      <td>False</td>\n",
       "      <td>False</td>\n",
       "      <td>False</td>\n",
       "      <td>False</td>\n",
       "      <td>False</td>\n",
       "    </tr>\n",
       "    <tr>\n",
       "      <th>593</th>\n",
       "      <td>162400485</td>\n",
       "      <td>7</td>\n",
       "      <td>7</td>\n",
       "      <td>R. Dr. José Augusto de Souza e Silva</td>\n",
       "      <td>512</td>\n",
       "      <td>0</td>\n",
       "      <td>15</td>\n",
       "      <td>{\"type\":\"LineString\", \"coordinates\":[[-46.7317...</td>\n",
       "      <td>False</td>\n",
       "      <td>False</td>\n",
       "      <td>False</td>\n",
       "      <td>False</td>\n",
       "      <td>False</td>\n",
       "      <td>False</td>\n",
       "      <td>False</td>\n",
       "      <td>False</td>\n",
       "    </tr>\n",
       "    <tr>\n",
       "      <th>899</th>\n",
       "      <td>162406735</td>\n",
       "      <td>17</td>\n",
       "      <td>17</td>\n",
       "      <td>R. Joana Pedroso dos Santos</td>\n",
       "      <td>512</td>\n",
       "      <td>0</td>\n",
       "      <td>22</td>\n",
       "      <td>{\"type\":\"LineString\", \"coordinates\":[[-46.7274...</td>\n",
       "      <td>False</td>\n",
       "      <td>False</td>\n",
       "      <td>False</td>\n",
       "      <td>False</td>\n",
       "      <td>False</td>\n",
       "      <td>False</td>\n",
       "      <td>False</td>\n",
       "      <td>False</td>\n",
       "    </tr>\n",
       "    <tr>\n",
       "      <th>562</th>\n",
       "      <td>162422000</td>\n",
       "      <td>9</td>\n",
       "      <td>9</td>\n",
       "      <td>R. São Sebastião</td>\n",
       "      <td>509</td>\n",
       "      <td>0</td>\n",
       "      <td>210</td>\n",
       "      <td>{\"type\":\"LineString\", \"coordinates\":[[-46.6912...</td>\n",
       "      <td>False</td>\n",
       "      <td>False</td>\n",
       "      <td>False</td>\n",
       "      <td>False</td>\n",
       "      <td>False</td>\n",
       "      <td>False</td>\n",
       "      <td>False</td>\n",
       "      <td>False</td>\n",
       "    </tr>\n",
       "    <tr>\n",
       "      <th>891</th>\n",
       "      <td>162401929</td>\n",
       "      <td>9</td>\n",
       "      <td>9</td>\n",
       "      <td>R. São Sebastião</td>\n",
       "      <td>509</td>\n",
       "      <td>0</td>\n",
       "      <td>191</td>\n",
       "      <td>{\"type\":\"LineString\", \"coordinates\":[[-46.6912...</td>\n",
       "      <td>False</td>\n",
       "      <td>False</td>\n",
       "      <td>False</td>\n",
       "      <td>False</td>\n",
       "      <td>False</td>\n",
       "      <td>False</td>\n",
       "      <td>False</td>\n",
       "      <td>False</td>\n",
       "    </tr>\n",
       "    <tr>\n",
       "      <th>1278</th>\n",
       "      <td>162422181</td>\n",
       "      <td>9</td>\n",
       "      <td>9</td>\n",
       "      <td>R. São Sebastião</td>\n",
       "      <td>509</td>\n",
       "      <td>0</td>\n",
       "      <td>240</td>\n",
       "      <td>{\"type\":\"LineString\", \"coordinates\":[[-46.6912...</td>\n",
       "      <td>False</td>\n",
       "      <td>False</td>\n",
       "      <td>False</td>\n",
       "      <td>False</td>\n",
       "      <td>False</td>\n",
       "      <td>False</td>\n",
       "      <td>False</td>\n",
       "      <td>False</td>\n",
       "    </tr>\n",
       "    <tr>\n",
       "      <th>1393</th>\n",
       "      <td>162402362</td>\n",
       "      <td>9</td>\n",
       "      <td>11</td>\n",
       "      <td>NaN</td>\n",
       "      <td>509</td>\n",
       "      <td>0</td>\n",
       "      <td>45</td>\n",
       "      <td>{\"type\":\"LineString\", \"coordinates\":[[-46.4686...</td>\n",
       "      <td>False</td>\n",
       "      <td>False</td>\n",
       "      <td>False</td>\n",
       "      <td>False</td>\n",
       "      <td>False</td>\n",
       "      <td>False</td>\n",
       "      <td>False</td>\n",
       "      <td>False</td>\n",
       "    </tr>\n",
       "    <tr>\n",
       "      <th>1022</th>\n",
       "      <td>162401879</td>\n",
       "      <td>9</td>\n",
       "      <td>9</td>\n",
       "      <td>R. Da. Germaine Burchard</td>\n",
       "      <td>508</td>\n",
       "      <td>0</td>\n",
       "      <td>147</td>\n",
       "      <td>{\"type\":\"LineString\", \"coordinates\":[[-46.6736...</td>\n",
       "      <td>False</td>\n",
       "      <td>False</td>\n",
       "      <td>False</td>\n",
       "      <td>False</td>\n",
       "      <td>False</td>\n",
       "      <td>False</td>\n",
       "      <td>False</td>\n",
       "      <td>False</td>\n",
       "    </tr>\n",
       "    <tr>\n",
       "      <th>770</th>\n",
       "      <td>162401449</td>\n",
       "      <td>8</td>\n",
       "      <td>8</td>\n",
       "      <td>Av. Comendador Dante Carraro</td>\n",
       "      <td>507</td>\n",
       "      <td>0</td>\n",
       "      <td>38</td>\n",
       "      <td>{\"type\":\"LineString\", \"coordinates\":[[-46.8530...</td>\n",
       "      <td>False</td>\n",
       "      <td>False</td>\n",
       "      <td>False</td>\n",
       "      <td>False</td>\n",
       "      <td>False</td>\n",
       "      <td>False</td>\n",
       "      <td>False</td>\n",
       "      <td>False</td>\n",
       "    </tr>\n",
       "    <tr>\n",
       "      <th>574</th>\n",
       "      <td>162401343</td>\n",
       "      <td>8</td>\n",
       "      <td>8</td>\n",
       "      <td>Av. Comendador Dante Carraro</td>\n",
       "      <td>507</td>\n",
       "      <td>0</td>\n",
       "      <td>37</td>\n",
       "      <td>{\"type\":\"LineString\", \"coordinates\":[[-46.8530...</td>\n",
       "      <td>False</td>\n",
       "      <td>False</td>\n",
       "      <td>False</td>\n",
       "      <td>False</td>\n",
       "      <td>False</td>\n",
       "      <td>False</td>\n",
       "      <td>False</td>\n",
       "      <td>False</td>\n",
       "    </tr>\n",
       "    <tr>\n",
       "      <th>1557</th>\n",
       "      <td>162401129</td>\n",
       "      <td>8</td>\n",
       "      <td>8</td>\n",
       "      <td>Av. Rui Barbosa</td>\n",
       "      <td>507</td>\n",
       "      <td>0</td>\n",
       "      <td>60</td>\n",
       "      <td>{\"type\":\"LineString\", \"coordinates\":[[-46.8424...</td>\n",
       "      <td>False</td>\n",
       "      <td>False</td>\n",
       "      <td>False</td>\n",
       "      <td>False</td>\n",
       "      <td>False</td>\n",
       "      <td>False</td>\n",
       "      <td>False</td>\n",
       "      <td>False</td>\n",
       "    </tr>\n",
       "    <tr>\n",
       "      <th>846</th>\n",
       "      <td>162401162</td>\n",
       "      <td>8</td>\n",
       "      <td>9</td>\n",
       "      <td>Vd. Fioravante Iervolino</td>\n",
       "      <td>506</td>\n",
       "      <td>0</td>\n",
       "      <td>60</td>\n",
       "      <td>{\"type\":\"LineString\", \"coordinates\":[[-46.5291...</td>\n",
       "      <td>False</td>\n",
       "      <td>False</td>\n",
       "      <td>False</td>\n",
       "      <td>False</td>\n",
       "      <td>False</td>\n",
       "      <td>False</td>\n",
       "      <td>False</td>\n",
       "      <td>False</td>\n",
       "    </tr>\n",
       "    <tr>\n",
       "      <th>366</th>\n",
       "      <td>162403637</td>\n",
       "      <td>11</td>\n",
       "      <td>11</td>\n",
       "      <td>R. do Rocio</td>\n",
       "      <td>506</td>\n",
       "      <td>1</td>\n",
       "      <td>129</td>\n",
       "      <td>{\"type\":\"LineString\", \"coordinates\":[[-46.6885...</td>\n",
       "      <td>False</td>\n",
       "      <td>False</td>\n",
       "      <td>False</td>\n",
       "      <td>False</td>\n",
       "      <td>False</td>\n",
       "      <td>False</td>\n",
       "      <td>False</td>\n",
       "      <td>False</td>\n",
       "    </tr>\n",
       "    <tr>\n",
       "      <th>444</th>\n",
       "      <td>162422530</td>\n",
       "      <td>10</td>\n",
       "      <td>10</td>\n",
       "      <td>R. Dr. José Áureo Bustamante</td>\n",
       "      <td>505</td>\n",
       "      <td>1</td>\n",
       "      <td>177</td>\n",
       "      <td>{\"type\":\"LineString\", \"coordinates\":[[-46.6953...</td>\n",
       "      <td>False</td>\n",
       "      <td>False</td>\n",
       "      <td>False</td>\n",
       "      <td>False</td>\n",
       "      <td>False</td>\n",
       "      <td>False</td>\n",
       "      <td>False</td>\n",
       "      <td>False</td>\n",
       "    </tr>\n",
       "    <tr>\n",
       "      <th>1172</th>\n",
       "      <td>162402355</td>\n",
       "      <td>9</td>\n",
       "      <td>9</td>\n",
       "      <td>R. Dr. José Áureo Bustamante</td>\n",
       "      <td>505</td>\n",
       "      <td>0</td>\n",
       "      <td>164</td>\n",
       "      <td>{\"type\":\"LineString\", \"coordinates\":[[-46.6953...</td>\n",
       "      <td>False</td>\n",
       "      <td>False</td>\n",
       "      <td>False</td>\n",
       "      <td>False</td>\n",
       "      <td>False</td>\n",
       "      <td>False</td>\n",
       "      <td>False</td>\n",
       "      <td>False</td>\n",
       "    </tr>\n",
       "    <tr>\n",
       "      <th>1223</th>\n",
       "      <td>162402396</td>\n",
       "      <td>9</td>\n",
       "      <td>9</td>\n",
       "      <td>R. Dr. José Áureo Bustamante</td>\n",
       "      <td>505</td>\n",
       "      <td>0</td>\n",
       "      <td>167</td>\n",
       "      <td>{\"type\":\"LineString\", \"coordinates\":[[-46.6953...</td>\n",
       "      <td>False</td>\n",
       "      <td>False</td>\n",
       "      <td>False</td>\n",
       "      <td>False</td>\n",
       "      <td>False</td>\n",
       "      <td>False</td>\n",
       "      <td>False</td>\n",
       "      <td>False</td>\n",
       "    </tr>\n",
       "    <tr>\n",
       "      <th>527</th>\n",
       "      <td>162422481</td>\n",
       "      <td>10</td>\n",
       "      <td>10</td>\n",
       "      <td>R. Dr. José Áureo Bustamante</td>\n",
       "      <td>505</td>\n",
       "      <td>1</td>\n",
       "      <td>173</td>\n",
       "      <td>{\"type\":\"LineString\", \"coordinates\":[[-46.6953...</td>\n",
       "      <td>False</td>\n",
       "      <td>False</td>\n",
       "      <td>False</td>\n",
       "      <td>False</td>\n",
       "      <td>False</td>\n",
       "      <td>False</td>\n",
       "      <td>False</td>\n",
       "      <td>False</td>\n",
       "    </tr>\n",
       "    <tr>\n",
       "      <th>1308</th>\n",
       "      <td>162427050</td>\n",
       "      <td>17</td>\n",
       "      <td>18</td>\n",
       "      <td>Av. Ellis Maas</td>\n",
       "      <td>504</td>\n",
       "      <td>0</td>\n",
       "      <td>23</td>\n",
       "      <td>{\"type\":\"LineString\", \"coordinates\":[[-46.7701...</td>\n",
       "      <td>False</td>\n",
       "      <td>False</td>\n",
       "      <td>False</td>\n",
       "      <td>False</td>\n",
       "      <td>False</td>\n",
       "      <td>False</td>\n",
       "      <td>False</td>\n",
       "      <td>False</td>\n",
       "    </tr>\n",
       "    <tr>\n",
       "      <th>594</th>\n",
       "      <td>162401413</td>\n",
       "      <td>8</td>\n",
       "      <td>8</td>\n",
       "      <td>Av. Dr. Altino Arantes</td>\n",
       "      <td>503</td>\n",
       "      <td>0</td>\n",
       "      <td>112</td>\n",
       "      <td>{\"type\":\"LineString\", \"coordinates\":[[-46.6420...</td>\n",
       "      <td>False</td>\n",
       "      <td>False</td>\n",
       "      <td>False</td>\n",
       "      <td>False</td>\n",
       "      <td>False</td>\n",
       "      <td>False</td>\n",
       "      <td>False</td>\n",
       "      <td>False</td>\n",
       "    </tr>\n",
       "    <tr>\n",
       "      <th>1578</th>\n",
       "      <td>162402919</td>\n",
       "      <td>10</td>\n",
       "      <td>10</td>\n",
       "      <td>R. Bento de Andrade</td>\n",
       "      <td>503</td>\n",
       "      <td>0</td>\n",
       "      <td>161</td>\n",
       "      <td>{\"type\":\"LineString\", \"coordinates\":[[-46.6655...</td>\n",
       "      <td>False</td>\n",
       "      <td>False</td>\n",
       "      <td>False</td>\n",
       "      <td>False</td>\n",
       "      <td>False</td>\n",
       "      <td>False</td>\n",
       "      <td>False</td>\n",
       "      <td>False</td>\n",
       "    </tr>\n",
       "    <tr>\n",
       "      <th>1363</th>\n",
       "      <td>162402216</td>\n",
       "      <td>9</td>\n",
       "      <td>9</td>\n",
       "      <td>Av. do Café</td>\n",
       "      <td>502</td>\n",
       "      <td>0</td>\n",
       "      <td>124</td>\n",
       "      <td>{\"type\":\"LineString\", \"coordinates\":[[-46.6352...</td>\n",
       "      <td>False</td>\n",
       "      <td>False</td>\n",
       "      <td>False</td>\n",
       "      <td>False</td>\n",
       "      <td>False</td>\n",
       "      <td>False</td>\n",
       "      <td>False</td>\n",
       "      <td>False</td>\n",
       "    </tr>\n",
       "    <tr>\n",
       "      <th>1084</th>\n",
       "      <td>162402169</td>\n",
       "      <td>9</td>\n",
       "      <td>9</td>\n",
       "      <td>Av. do Café</td>\n",
       "      <td>502</td>\n",
       "      <td>0</td>\n",
       "      <td>119</td>\n",
       "      <td>{\"type\":\"LineString\", \"coordinates\":[[-46.6352...</td>\n",
       "      <td>False</td>\n",
       "      <td>False</td>\n",
       "      <td>False</td>\n",
       "      <td>False</td>\n",
       "      <td>False</td>\n",
       "      <td>False</td>\n",
       "      <td>False</td>\n",
       "      <td>False</td>\n",
       "    </tr>\n",
       "    <tr>\n",
       "      <th>965</th>\n",
       "      <td>162422031</td>\n",
       "      <td>9</td>\n",
       "      <td>9</td>\n",
       "      <td>Av. do Café</td>\n",
       "      <td>502</td>\n",
       "      <td>0</td>\n",
       "      <td>127</td>\n",
       "      <td>{\"type\":\"LineString\", \"coordinates\":[[-46.6352...</td>\n",
       "      <td>False</td>\n",
       "      <td>False</td>\n",
       "      <td>False</td>\n",
       "      <td>False</td>\n",
       "      <td>False</td>\n",
       "      <td>False</td>\n",
       "      <td>False</td>\n",
       "      <td>False</td>\n",
       "    </tr>\n",
       "    <tr>\n",
       "      <th>478</th>\n",
       "      <td>162406852</td>\n",
       "      <td>18</td>\n",
       "      <td>18</td>\n",
       "      <td>R. Dr. Luiz Migliano</td>\n",
       "      <td>502</td>\n",
       "      <td>1</td>\n",
       "      <td>35</td>\n",
       "      <td>{\"type\":\"LineString\", \"coordinates\":[[-46.7426...</td>\n",
       "      <td>False</td>\n",
       "      <td>False</td>\n",
       "      <td>False</td>\n",
       "      <td>False</td>\n",
       "      <td>False</td>\n",
       "      <td>False</td>\n",
       "      <td>False</td>\n",
       "      <td>False</td>\n",
       "    </tr>\n",
       "    <tr>\n",
       "      <th>531</th>\n",
       "      <td>162401374</td>\n",
       "      <td>8</td>\n",
       "      <td>8</td>\n",
       "      <td>Av. Gov. Mário Covas Jr.</td>\n",
       "      <td>502</td>\n",
       "      <td>1</td>\n",
       "      <td>118</td>\n",
       "      <td>{\"type\":\"LineString\", \"coordinates\":[[-46.8317...</td>\n",
       "      <td>False</td>\n",
       "      <td>False</td>\n",
       "      <td>False</td>\n",
       "      <td>False</td>\n",
       "      <td>False</td>\n",
       "      <td>False</td>\n",
       "      <td>False</td>\n",
       "      <td>False</td>\n",
       "    </tr>\n",
       "    <tr>\n",
       "      <th>1063</th>\n",
       "      <td>162422630</td>\n",
       "      <td>10</td>\n",
       "      <td>10</td>\n",
       "      <td>Est. dos Alvarengas</td>\n",
       "      <td>502</td>\n",
       "      <td>0</td>\n",
       "      <td>23</td>\n",
       "      <td>{\"type\":\"LineString\", \"coordinates\":[[-46.5981...</td>\n",
       "      <td>False</td>\n",
       "      <td>False</td>\n",
       "      <td>False</td>\n",
       "      <td>False</td>\n",
       "      <td>False</td>\n",
       "      <td>False</td>\n",
       "      <td>False</td>\n",
       "      <td>False</td>\n",
       "    </tr>\n",
       "    <tr>\n",
       "      <th>392</th>\n",
       "      <td>162400283</td>\n",
       "      <td>6</td>\n",
       "      <td>6</td>\n",
       "      <td>Av. Gov. Mário Covas Jr.</td>\n",
       "      <td>502</td>\n",
       "      <td>1</td>\n",
       "      <td>29</td>\n",
       "      <td>{\"type\":\"LineString\", \"coordinates\":[[-46.8317...</td>\n",
       "      <td>False</td>\n",
       "      <td>False</td>\n",
       "      <td>False</td>\n",
       "      <td>False</td>\n",
       "      <td>False</td>\n",
       "      <td>False</td>\n",
       "      <td>False</td>\n",
       "      <td>False</td>\n",
       "    </tr>\n",
       "    <tr>\n",
       "      <th>1403</th>\n",
       "      <td>162401512</td>\n",
       "      <td>8</td>\n",
       "      <td>9</td>\n",
       "      <td>R. Dr. Luiz Migliano</td>\n",
       "      <td>502</td>\n",
       "      <td>0</td>\n",
       "      <td>30</td>\n",
       "      <td>{\"type\":\"LineString\", \"coordinates\":[[-46.7426...</td>\n",
       "      <td>False</td>\n",
       "      <td>False</td>\n",
       "      <td>False</td>\n",
       "      <td>False</td>\n",
       "      <td>False</td>\n",
       "      <td>False</td>\n",
       "      <td>False</td>\n",
       "      <td>False</td>\n",
       "    </tr>\n",
       "    <tr>\n",
       "      <th>479</th>\n",
       "      <td>162401837</td>\n",
       "      <td>9</td>\n",
       "      <td>9</td>\n",
       "      <td>R. Mariana Correia</td>\n",
       "      <td>500</td>\n",
       "      <td>1</td>\n",
       "      <td>229</td>\n",
       "      <td>{\"type\":\"LineString\", \"coordinates\":[[-46.6859...</td>\n",
       "      <td>False</td>\n",
       "      <td>False</td>\n",
       "      <td>False</td>\n",
       "      <td>False</td>\n",
       "      <td>False</td>\n",
       "      <td>False</td>\n",
       "      <td>False</td>\n",
       "      <td>False</td>\n",
       "    </tr>\n",
       "    <tr>\n",
       "      <th>1251</th>\n",
       "      <td>162400996</td>\n",
       "      <td>8</td>\n",
       "      <td>8</td>\n",
       "      <td>Est. Água Chata</td>\n",
       "      <td>500</td>\n",
       "      <td>0</td>\n",
       "      <td>32</td>\n",
       "      <td>{\"type\":\"LineString\", \"coordinates\":[[-46.4027...</td>\n",
       "      <td>False</td>\n",
       "      <td>False</td>\n",
       "      <td>False</td>\n",
       "      <td>False</td>\n",
       "      <td>False</td>\n",
       "      <td>False</td>\n",
       "      <td>False</td>\n",
       "      <td>False</td>\n",
       "    </tr>\n",
       "  </tbody>\n",
       "</table>\n",
       "<p>1640 rows × 16 columns</p>\n",
       "</div>"
      ],
      "text/plain": [
       "             id  min_hour  max_hour                                   street  \\\n",
       "127   162400346         6         6                  BR-116 Rod. Pres. Dutra   \n",
       "21    162403443        11        11               Pista Expressa Marg. Tietê   \n",
       "7     162421411         8         8             SP-160 N Rod. dos Imigrantes   \n",
       "365   162400524         7         8                  BR-116 Rod. Pres. Dutra   \n",
       "24    162404004        12        12               Pista Expressa Marg. Tietê   \n",
       "5     162420951         8         8              SP-021 Rodoanel Mário Covas   \n",
       "134   162401964         9         9      SP-070 O Rod. Ayrton Senna da Silva   \n",
       "48    162402177        11        11      SP-070 O Rod. Ayrton Senna da Silva   \n",
       "8     162400784         8         8             SP-160 N Rod. dos Imigrantes   \n",
       "67    162401365         8         8             SP-270 L Rod. Raposo Tavares   \n",
       "125   162402633        10        10               Pista Expressa Marg. Tietê   \n",
       "19    162400993         8         8      SP-070 O Rod. Ayrton Senna da Silva   \n",
       "6     162420350         8         8  BR-116 Rod. Pres. Dutra - Pista Lateral   \n",
       "62    162401473         8         8               Pista Expressa Marg. Tietê   \n",
       "214   162422430        10        10                  BR-116 Rod. Pres. Dutra   \n",
       "176   162400817         8         8                  BR-116 Rod. Pres. Dutra   \n",
       "57    162401257         8         8               Pista Expressa Marg. Tietê   \n",
       "28    162400402         6         6               Pista Expressa Marg. Tietê   \n",
       "583   162420080         3         3             SP-160 N Rod. dos Imigrantes   \n",
       "3     162406236        18        18               Pista Expressa Marg. Tietê   \n",
       "429   162401809         9        10                  BR-116 Rod. Pres. Dutra   \n",
       "43    162402305        10        10            Av. Morvan Dias de Figueiredo   \n",
       "13    162400779         9         9                    Av. das Nações Unidas   \n",
       "123   162421860         9         9      SP-070 O Rod. Ayrton Senna da Silva   \n",
       "58    162400243         6         6                     SP-150 N V. Anchieta   \n",
       "33    162400824         8         8                BR-381 S Rod. Fernão Dias   \n",
       "12    162407058        18        18             SP-270 O Rod. Raposo Tavares   \n",
       "2     162406068        17        17      SP-280 O Rod. Pres. Castello Branco   \n",
       "44    162400438         8        12  BR-116 Rod. Pres. Dutra - Pista Lateral   \n",
       "10    162401656         9         9                          Marg. Pinheiros   \n",
       "...         ...       ...       ...                                      ...   \n",
       "1382  162405648        15        15             Estr, Pirajussara Valo Velho   \n",
       "593   162400485         7         7     R. Dr. José Augusto de Souza e Silva   \n",
       "899   162406735        17        17              R. Joana Pedroso dos Santos   \n",
       "562   162422000         9         9                         R. São Sebastião   \n",
       "891   162401929         9         9                         R. São Sebastião   \n",
       "1278  162422181         9         9                         R. São Sebastião   \n",
       "1393  162402362         9        11                                      NaN   \n",
       "1022  162401879         9         9                 R. Da. Germaine Burchard   \n",
       "770   162401449         8         8             Av. Comendador Dante Carraro   \n",
       "574   162401343         8         8             Av. Comendador Dante Carraro   \n",
       "1557  162401129         8         8                          Av. Rui Barbosa   \n",
       "846   162401162         8         9                 Vd. Fioravante Iervolino   \n",
       "366   162403637        11        11                              R. do Rocio   \n",
       "444   162422530        10        10             R. Dr. José Áureo Bustamante   \n",
       "1172  162402355         9         9             R. Dr. José Áureo Bustamante   \n",
       "1223  162402396         9         9             R. Dr. José Áureo Bustamante   \n",
       "527   162422481        10        10             R. Dr. José Áureo Bustamante   \n",
       "1308  162427050        17        18                           Av. Ellis Maas   \n",
       "594   162401413         8         8                   Av. Dr. Altino Arantes   \n",
       "1578  162402919        10        10                      R. Bento de Andrade   \n",
       "1363  162402216         9         9                              Av. do Café   \n",
       "1084  162402169         9         9                              Av. do Café   \n",
       "965   162422031         9         9                              Av. do Café   \n",
       "478   162406852        18        18                     R. Dr. Luiz Migliano   \n",
       "531   162401374         8         8                 Av. Gov. Mário Covas Jr.   \n",
       "1063  162422630        10        10                      Est. dos Alvarengas   \n",
       "392   162400283         6         6                 Av. Gov. Mário Covas Jr.   \n",
       "1403  162401512         8         9                     R. Dr. Luiz Migliano   \n",
       "479   162401837         9         9                       R. Mariana Correia   \n",
       "1251  162400996         8         8                          Est. Água Chata   \n",
       "\n",
       "      length  nthumbsup  driverscount  \\\n",
       "127    17413          5           644   \n",
       "21     16961         17          2067   \n",
       "7      15385         30          2417   \n",
       "365    13409          1           223   \n",
       "24     13190         14          2074   \n",
       "5      12970         31          1458   \n",
       "134    12799          5           458   \n",
       "48     11983         10           745   \n",
       "8      11867         29          2011   \n",
       "67     11586          8          1078   \n",
       "125    11296          5          1243   \n",
       "19     10810         18           715   \n",
       "6      10771         31          1729   \n",
       "62      9195          8           330   \n",
       "214     8838          3           114   \n",
       "176     8838          3           343   \n",
       "57      8776          9           335   \n",
       "28      8776         14          1478   \n",
       "583     8339          0            15   \n",
       "3       7855         39          1825   \n",
       "429     7508          1           160   \n",
       "43      7508         10          2155   \n",
       "13      7415         21          3314   \n",
       "123     7393          5           431   \n",
       "58      6995          9           414   \n",
       "33      6853         12           397   \n",
       "12      6806         22           313   \n",
       "2       6678         45           343   \n",
       "44      6616         10           565   \n",
       "10      6586         24          3332   \n",
       "...      ...        ...           ...   \n",
       "1382     513          0            26   \n",
       "593      512          0            15   \n",
       "899      512          0            22   \n",
       "562      509          0           210   \n",
       "891      509          0           191   \n",
       "1278     509          0           240   \n",
       "1393     509          0            45   \n",
       "1022     508          0           147   \n",
       "770      507          0            38   \n",
       "574      507          0            37   \n",
       "1557     507          0            60   \n",
       "846      506          0            60   \n",
       "366      506          1           129   \n",
       "444      505          1           177   \n",
       "1172     505          0           164   \n",
       "1223     505          0           167   \n",
       "527      505          1           173   \n",
       "1308     504          0            23   \n",
       "594      503          0           112   \n",
       "1578     503          0           161   \n",
       "1363     502          0           124   \n",
       "1084     502          0           119   \n",
       "965      502          0           127   \n",
       "478      502          1            35   \n",
       "531      502          1           118   \n",
       "1063     502          0            23   \n",
       "392      502          1            29   \n",
       "1403     502          0            30   \n",
       "479      500          1           229   \n",
       "1251     500          0            32   \n",
       "\n",
       "                                           irre_geojson  bbox1  bbox2  bbox3  \\\n",
       "127   {\"type\":\"LineString\", \"coordinates\":[[-46.3718...  False  False  False   \n",
       "21    {\"type\":\"LineString\", \"coordinates\":[[-46.7365...   True  False  False   \n",
       "7     {\"type\":\"LineString\", \"coordinates\":[[-46.5955...  False  False  False   \n",
       "365   {\"type\":\"LineString\", \"coordinates\":[[-46.5284...  False  False  False   \n",
       "24    {\"type\":\"LineString\", \"coordinates\":[[-46.6810...   True  False  False   \n",
       "5     {\"type\":\"LineString\", \"coordinates\":[[-46.8296...  False  False  False   \n",
       "134   {\"type\":\"LineString\", \"coordinates\":[[-46.4440...  False  False  False   \n",
       "48    {\"type\":\"LineString\", \"coordinates\":[[-46.4440...  False  False  False   \n",
       "8     {\"type\":\"LineString\", \"coordinates\":[[-46.5955...  False  False  False   \n",
       "67    {\"type\":\"LineString\", \"coordinates\":[[-46.9108...  False  False  False   \n",
       "125   {\"type\":\"LineString\", \"coordinates\":[[-46.5564...   True  False  False   \n",
       "19    {\"type\":\"LineString\", \"coordinates\":[[-46.4631...  False  False  False   \n",
       "6     {\"type\":\"LineString\", \"coordinates\":[[-46.4730...  False  False  False   \n",
       "62    {\"type\":\"LineString\", \"coordinates\":[[-46.5564...   True  False  False   \n",
       "214   {\"type\":\"LineString\", \"coordinates\":[[-46.5282...  False  False  False   \n",
       "176   {\"type\":\"LineString\", \"coordinates\":[[-46.5282...  False  False  False   \n",
       "57    {\"type\":\"LineString\", \"coordinates\":[[-46.5564...   True  False  False   \n",
       "28    {\"type\":\"LineString\", \"coordinates\":[[-46.5564...   True  False  False   \n",
       "583   {\"type\":\"LineString\", \"coordinates\":[[-46.5955...  False  False  False   \n",
       "3     {\"type\":\"LineString\", \"coordinates\":[[-46.6325...   True  False  False   \n",
       "429   {\"type\":\"LineString\", \"coordinates\":[[-46.4728...  False  False  False   \n",
       "43    {\"type\":\"LineString\", \"coordinates\":[[-46.5564...   True  False  False   \n",
       "13    {\"type\":\"LineString\", \"coordinates\":[[-46.7251...  False   True  False   \n",
       "123   {\"type\":\"LineString\", \"coordinates\":[[-46.4939...  False  False  False   \n",
       "58    {\"type\":\"LineString\", \"coordinates\":[[-46.5613...  False  False  False   \n",
       "33    {\"type\":\"LineString\", \"coordinates\":[[-46.5786...  False  False  False   \n",
       "12    {\"type\":\"LineString\", \"coordinates\":[[-46.8533...  False  False  False   \n",
       "2     {\"type\":\"LineString\", \"coordinates\":[[-46.7995...  False  False  False   \n",
       "44    {\"type\":\"LineString\", \"coordinates\":[[-46.5289...  False  False  False   \n",
       "10    {\"type\":\"LineString\", \"coordinates\":[[-46.7330...  False  False  False   \n",
       "...                                                 ...    ...    ...    ...   \n",
       "1382  {\"type\":\"LineString\", \"coordinates\":[[-46.7837...  False  False  False   \n",
       "593   {\"type\":\"LineString\", \"coordinates\":[[-46.7317...  False  False  False   \n",
       "899   {\"type\":\"LineString\", \"coordinates\":[[-46.7274...  False  False  False   \n",
       "562   {\"type\":\"LineString\", \"coordinates\":[[-46.6912...  False  False  False   \n",
       "891   {\"type\":\"LineString\", \"coordinates\":[[-46.6912...  False  False  False   \n",
       "1278  {\"type\":\"LineString\", \"coordinates\":[[-46.6912...  False  False  False   \n",
       "1393  {\"type\":\"LineString\", \"coordinates\":[[-46.4686...  False  False  False   \n",
       "1022  {\"type\":\"LineString\", \"coordinates\":[[-46.6736...  False  False  False   \n",
       "770   {\"type\":\"LineString\", \"coordinates\":[[-46.8530...  False  False  False   \n",
       "574   {\"type\":\"LineString\", \"coordinates\":[[-46.8530...  False  False  False   \n",
       "1557  {\"type\":\"LineString\", \"coordinates\":[[-46.8424...  False  False  False   \n",
       "846   {\"type\":\"LineString\", \"coordinates\":[[-46.5291...  False  False  False   \n",
       "366   {\"type\":\"LineString\", \"coordinates\":[[-46.6885...  False  False  False   \n",
       "444   {\"type\":\"LineString\", \"coordinates\":[[-46.6953...  False  False  False   \n",
       "1172  {\"type\":\"LineString\", \"coordinates\":[[-46.6953...  False  False  False   \n",
       "1223  {\"type\":\"LineString\", \"coordinates\":[[-46.6953...  False  False  False   \n",
       "527   {\"type\":\"LineString\", \"coordinates\":[[-46.6953...  False  False  False   \n",
       "1308  {\"type\":\"LineString\", \"coordinates\":[[-46.7701...  False  False  False   \n",
       "594   {\"type\":\"LineString\", \"coordinates\":[[-46.6420...  False  False  False   \n",
       "1578  {\"type\":\"LineString\", \"coordinates\":[[-46.6655...  False  False  False   \n",
       "1363  {\"type\":\"LineString\", \"coordinates\":[[-46.6352...  False  False  False   \n",
       "1084  {\"type\":\"LineString\", \"coordinates\":[[-46.6352...  False  False  False   \n",
       "965   {\"type\":\"LineString\", \"coordinates\":[[-46.6352...  False  False  False   \n",
       "478   {\"type\":\"LineString\", \"coordinates\":[[-46.7426...  False  False  False   \n",
       "531   {\"type\":\"LineString\", \"coordinates\":[[-46.8317...  False  False  False   \n",
       "1063  {\"type\":\"LineString\", \"coordinates\":[[-46.5981...  False  False  False   \n",
       "392   {\"type\":\"LineString\", \"coordinates\":[[-46.8317...  False  False  False   \n",
       "1403  {\"type\":\"LineString\", \"coordinates\":[[-46.7426...  False  False  False   \n",
       "479   {\"type\":\"LineString\", \"coordinates\":[[-46.6859...  False  False  False   \n",
       "1251  {\"type\":\"LineString\", \"coordinates\":[[-46.4027...  False  False  False   \n",
       "\n",
       "      bbox4  bbox5  bbox6  bbox7  bbox8  \n",
       "127   False  False  False  False  False  \n",
       "21    False  False  False  False  False  \n",
       "7     False  False  False  False  False  \n",
       "365   False  False  False  False  False  \n",
       "24    False  False  False   True  False  \n",
       "5     False  False  False  False  False  \n",
       "134   False  False  False  False  False  \n",
       "48    False  False  False  False  False  \n",
       "8     False  False  False  False  False  \n",
       "67    False  False  False  False  False  \n",
       "125   False  False  False   True  False  \n",
       "19    False  False  False  False  False  \n",
       "6     False  False  False  False  False  \n",
       "62    False  False  False   True  False  \n",
       "214   False  False  False  False  False  \n",
       "176   False  False  False  False  False  \n",
       "57    False  False  False   True  False  \n",
       "28    False  False  False   True  False  \n",
       "583   False  False  False  False  False  \n",
       "3     False  False  False   True  False  \n",
       "429   False  False  False  False  False  \n",
       "43    False  False  False   True  False  \n",
       "13    False  False  False  False  False  \n",
       "123   False  False  False  False  False  \n",
       "58    False  False  False  False  False  \n",
       "33    False  False  False  False  False  \n",
       "12    False  False  False  False  False  \n",
       "2     False  False  False  False  False  \n",
       "44    False  False  False  False  False  \n",
       "10    False  False  False  False  False  \n",
       "...     ...    ...    ...    ...    ...  \n",
       "1382  False  False  False  False  False  \n",
       "593   False  False  False  False  False  \n",
       "899   False  False  False  False  False  \n",
       "562   False  False  False  False  False  \n",
       "891   False  False  False  False  False  \n",
       "1278  False  False  False  False  False  \n",
       "1393  False  False  False  False  False  \n",
       "1022  False  False  False  False  False  \n",
       "770   False  False  False  False  False  \n",
       "574   False  False  False  False  False  \n",
       "1557  False  False  False  False  False  \n",
       "846   False  False  False  False  False  \n",
       "366   False  False  False  False  False  \n",
       "444   False  False  False  False  False  \n",
       "1172  False  False  False  False  False  \n",
       "1223  False  False  False  False  False  \n",
       "527   False  False  False  False  False  \n",
       "1308  False  False  False  False  False  \n",
       "594   False  False  False  False  False  \n",
       "1578  False  False  False  False  False  \n",
       "1363  False  False  False  False  False  \n",
       "1084  False  False  False  False  False  \n",
       "965   False  False  False  False  False  \n",
       "478   False  False  False  False  False  \n",
       "531   False  False  False  False  False  \n",
       "1063  False  False  False  False  False  \n",
       "392   False  False  False  False  False  \n",
       "1403  False  False  False  False  False  \n",
       "479   False  False  False  False  False  \n",
       "1251  False  False  False  False  False  \n",
       "\n",
       "[1640 rows x 16 columns]"
      ]
     },
     "execution_count": 350,
     "metadata": {},
     "output_type": "execute_result"
    }
   ],
   "source": [
    "irreg_data.sort_values(by='length', ascending=False)"
   ]
  },
  {
   "cell_type": "markdown",
   "metadata": {},
   "source": [
    "# Distribuição de Acidentes"
   ]
  },
  {
   "cell_type": "markdown",
   "metadata": {},
   "source": [
    "## Heat Map"
   ]
  },
  {
   "cell_type": "code",
   "execution_count": 24,
   "metadata": {},
   "outputs": [],
   "source": [
    "cities[city]['clusters'].to_csv('clusters.csv')"
   ]
  },
  {
   "cell_type": "markdown",
   "metadata": {},
   "source": [
    "# Next Step"
   ]
  },
  {
   "cell_type": "code",
   "execution_count": null,
   "metadata": {},
   "outputs": [],
   "source": [
    "acc = sp['accidents'].loc[sp['accidents']['start_time']> '2018-10-31']"
   ]
  },
  {
   "cell_type": "code",
   "execution_count": null,
   "metadata": {},
   "outputs": [],
   "source": [
    "clusters = wa.clustering(acc, eps_spatial=200, eps_temporal=3600)"
   ]
  },
  {
   "cell_type": "code",
   "execution_count": null,
   "metadata": {},
   "outputs": [],
   "source": [
    "exp = pd.DataFrame(clusters).T.drop(columns=['uuid list'])"
   ]
  },
  {
   "cell_type": "code",
   "execution_count": null,
   "metadata": {},
   "outputs": [],
   "source": [
    "#clusters"
   ]
  },
  {
   "cell_type": "markdown",
   "metadata": {},
   "source": [
    "# Exploração/Bagunça"
   ]
  },
  {
   "cell_type": "markdown",
   "metadata": {},
   "source": [
    "## Observando os dados puros"
   ]
  },
  {
   "cell_type": "markdown",
   "metadata": {},
   "source": [
    "A conclusão da exploração abaixo é que basta pegar dois pontos, inicial e final, e tomar alguns cuidados com as demais colunas. A query pode ser vista no script waze-accidents.py"
   ]
  },
  {
   "cell_type": "code",
   "execution_count": null,
   "metadata": {},
   "outputs": [],
   "source": [
    "city = cities['São Paulo']\n",
    "\n",
    "city['accidents'] = pd.read_sql_query(f\"\"\"select uuid, pub_utc_date, location_x, location_y, subtype,\n",
    "                                            reliability, confidence, thumbs_up, jam_uuid, report_by_municipality_user\n",
    "                                            from waze.alerts\n",
    "                                            where city = '{city['city']}' AND type = 'ACCIDENT'\"\"\", con)\n"
   ]
  },
  {
   "cell_type": "code",
   "execution_count": null,
   "metadata": {},
   "outputs": [],
   "source": [
    "city['accidents']['pub_utc_date'] = city['accidents']['pub_utc_date'].apply(lambda x: x.replace(tzinfo=pytz.utc)\n",
    "                                                                            .astimezone(city['timezone'])\n",
    "                                                                            .replace(tzinfo=None))\n",
    "\n",
    "#city['accidents'].set_index('pub_utc_date', inplace=True)\n",
    "city['accidents'].rename(columns={'sum': 'length_raw'}, inplace=True)\n",
    "city['accidents'].sort_index(inplace=True)"
   ]
  },
  {
   "cell_type": "code",
   "execution_count": null,
   "metadata": {},
   "outputs": [],
   "source": [
    "accidents = cities['São Paulo']['accidents']"
   ]
  },
  {
   "cell_type": "code",
   "execution_count": null,
   "metadata": {},
   "outputs": [],
   "source": [
    "accidents['uuid'].agg(['nunique','count','size'])"
   ]
  },
  {
   "cell_type": "code",
   "execution_count": null,
   "metadata": {},
   "outputs": [],
   "source": [
    "accidents.head()"
   ]
  },
  {
   "cell_type": "code",
   "execution_count": null,
   "metadata": {},
   "outputs": [],
   "source": [
    "explore_uuid = accidents.groupby('uuid').nunique()"
   ]
  },
  {
   "cell_type": "code",
   "execution_count": null,
   "metadata": {},
   "outputs": [],
   "source": [
    "accidents.loc[accidents['uuid'] == 'cf56e91d-4b3f-3aec-9a5c-a4edbc10cf82', ['location_x', 'location_y']].groupby(['location_x']).count()"
   ]
  },
  {
   "cell_type": "code",
   "execution_count": null,
   "metadata": {},
   "outputs": [],
   "source": [
    "accidents.loc[accidents['uuid'] == 'cf56e91d-4b3f-3aec-9a5c-a4edbc10cf82', ['location_x', 'location_y']].groupby(['location_y']).count()"
   ]
  },
  {
   "cell_type": "code",
   "execution_count": null,
   "metadata": {},
   "outputs": [],
   "source": [
    "explore_uuid.apply(max,axis=0)"
   ]
  },
  {
   "cell_type": "code",
   "execution_count": null,
   "metadata": {},
   "outputs": [],
   "source": [
    "explore_uuid.loc[explore_uuid['location_x']==5]"
   ]
  },
  {
   "cell_type": "code",
   "execution_count": null,
   "metadata": {},
   "outputs": [],
   "source": [
    "cities = wa.download_accidents_data('São Paulo', cities)"
   ]
  },
  {
   "cell_type": "code",
   "execution_count": null,
   "metadata": {},
   "outputs": [],
   "source": []
  },
  {
   "cell_type": "code",
   "execution_count": null,
   "metadata": {},
   "outputs": [],
   "source": []
  }
 ],
 "metadata": {
  "kernelspec": {
   "display_name": "Python 3",
   "language": "python",
   "name": "python3"
  },
  "language_info": {
   "codemirror_mode": {
    "name": "ipython",
    "version": 3
   },
   "file_extension": ".py",
   "mimetype": "text/x-python",
   "name": "python",
   "nbconvert_exporter": "python",
   "pygments_lexer": "ipython3",
   "version": "3.6.5"
  },
  "toc": {
   "base_numbering": 1,
   "nav_menu": {},
   "number_sections": true,
   "sideBar": true,
   "skip_h1_title": false,
   "title_cell": "Table of Contents",
   "title_sidebar": "Contents",
   "toc_cell": false,
   "toc_position": {},
   "toc_section_display": true,
   "toc_window_display": false
  }
 },
 "nbformat": 4,
 "nbformat_minor": 2
}
